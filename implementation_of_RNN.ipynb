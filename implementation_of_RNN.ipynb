{
  "nbformat": 4,
  "nbformat_minor": 0,
  "metadata": {
    "colab": {
      "name": "implementation_of_RNN.ipynb",
      "provenance": [],
      "authorship_tag": "ABX9TyMMriDpSneds7QPvTjqFBNU",
      "include_colab_link": true
    },
    "kernelspec": {
      "name": "python3",
      "display_name": "Python 3"
    },
    "language_info": {
      "name": "python"
    }
  },
  "cells": [
    {
      "cell_type": "markdown",
      "metadata": {
        "id": "view-in-github",
        "colab_type": "text"
      },
      "source": [
        "<a href=\"https://colab.research.google.com/github/archana3001/DeepLearning_Beginner/blob/master/implementation_of_RNN.ipynb\" target=\"_parent\"><img src=\"https://colab.research.google.com/assets/colab-badge.svg\" alt=\"Open In Colab\"/></a>"
      ]
    },
    {
      "cell_type": "code",
      "source": [
        "from google.colab import drive\n",
        "drive.mount('/content/drive')"
      ],
      "metadata": {
        "colab": {
          "base_uri": "https://localhost:8080/"
        },
        "id": "JQyv5rBy4kdc",
        "outputId": "7f90ee0e-1864-4118-fc3b-ce0b53b2b665"
      },
      "execution_count": 1,
      "outputs": [
        {
          "output_type": "stream",
          "name": "stdout",
          "text": [
            "Drive already mounted at /content/drive; to attempt to forcibly remount, call drive.mount(\"/content/drive\", force_remount=True).\n"
          ]
        }
      ]
    },
    {
      "cell_type": "markdown",
      "source": [
        "**text preprocessing and word embedding**"
      ],
      "metadata": {
        "id": "QZ43EWck4x08"
      }
    },
    {
      "cell_type": "code",
      "source": [
        "import numpy as np\n",
        "import pandas as pd\n",
        "from tensorflow.keras.preprocessing.text import one_hot\n",
        "import re\n",
        "import nltk\n",
        "nltk.download('stopwords')\n",
        "from nltk.corpus import stopwords\n",
        "from tensorflow.keras.layers import Embedding\n",
        "from tensorflow.keras.preprocessing.sequence import pad_sequences\n",
        "from tensorflow.keras.models import Sequential\n",
        "from tensorflow.keras.layers import Dense\n",
        "from tensorflow.keras.layers import Flatten\n",
        "from sklearn import preprocessing"
      ],
      "metadata": {
        "colab": {
          "base_uri": "https://localhost:8080/"
        },
        "id": "Peirp-xO4xN3",
        "outputId": "789794cd-bd78-461a-abf2-d4faaa52f0da"
      },
      "execution_count": 1,
      "outputs": [
        {
          "output_type": "stream",
          "name": "stdout",
          "text": [
            "[nltk_data] Downloading package stopwords to /root/nltk_data...\n",
            "[nltk_data]   Package stopwords is already up-to-date!\n"
          ]
        }
      ]
    },
    {
      "cell_type": "code",
      "source": [
        "df=pd.read_csv('/content/drive/MyDrive/AILAB/Constraint_English_Train - Constraint_English_Train.csv')\n",
        "print(df.shape)\n",
        "df.head()"
      ],
      "metadata": {
        "colab": {
          "base_uri": "https://localhost:8080/",
          "height": 224
        },
        "id": "Xbq2s4j75B76",
        "outputId": "6a4af34a-0009-4cff-e18a-50afd06103e3"
      },
      "execution_count": 2,
      "outputs": [
        {
          "output_type": "stream",
          "name": "stdout",
          "text": [
            "(6420, 3)\n"
          ]
        },
        {
          "output_type": "execute_result",
          "data": {
            "text/html": [
              "\n",
              "  <div id=\"df-d97dff40-77d8-422e-9a7e-27181f7f4245\">\n",
              "    <div class=\"colab-df-container\">\n",
              "      <div>\n",
              "<style scoped>\n",
              "    .dataframe tbody tr th:only-of-type {\n",
              "        vertical-align: middle;\n",
              "    }\n",
              "\n",
              "    .dataframe tbody tr th {\n",
              "        vertical-align: top;\n",
              "    }\n",
              "\n",
              "    .dataframe thead th {\n",
              "        text-align: right;\n",
              "    }\n",
              "</style>\n",
              "<table border=\"1\" class=\"dataframe\">\n",
              "  <thead>\n",
              "    <tr style=\"text-align: right;\">\n",
              "      <th></th>\n",
              "      <th>id</th>\n",
              "      <th>tweet</th>\n",
              "      <th>label</th>\n",
              "    </tr>\n",
              "  </thead>\n",
              "  <tbody>\n",
              "    <tr>\n",
              "      <th>0</th>\n",
              "      <td>1</td>\n",
              "      <td>The CDC currently reports 99031 deaths. In gen...</td>\n",
              "      <td>real</td>\n",
              "    </tr>\n",
              "    <tr>\n",
              "      <th>1</th>\n",
              "      <td>2</td>\n",
              "      <td>States reported 1121 deaths a small rise from ...</td>\n",
              "      <td>real</td>\n",
              "    </tr>\n",
              "    <tr>\n",
              "      <th>2</th>\n",
              "      <td>3</td>\n",
              "      <td>Politically Correct Woman (Almost) Uses Pandem...</td>\n",
              "      <td>fake</td>\n",
              "    </tr>\n",
              "    <tr>\n",
              "      <th>3</th>\n",
              "      <td>4</td>\n",
              "      <td>#IndiaFightsCorona: We have 1524 #COVID testin...</td>\n",
              "      <td>real</td>\n",
              "    </tr>\n",
              "    <tr>\n",
              "      <th>4</th>\n",
              "      <td>5</td>\n",
              "      <td>Populous states can generate large case counts...</td>\n",
              "      <td>real</td>\n",
              "    </tr>\n",
              "  </tbody>\n",
              "</table>\n",
              "</div>\n",
              "      <button class=\"colab-df-convert\" onclick=\"convertToInteractive('df-d97dff40-77d8-422e-9a7e-27181f7f4245')\"\n",
              "              title=\"Convert this dataframe to an interactive table.\"\n",
              "              style=\"display:none;\">\n",
              "        \n",
              "  <svg xmlns=\"http://www.w3.org/2000/svg\" height=\"24px\"viewBox=\"0 0 24 24\"\n",
              "       width=\"24px\">\n",
              "    <path d=\"M0 0h24v24H0V0z\" fill=\"none\"/>\n",
              "    <path d=\"M18.56 5.44l.94 2.06.94-2.06 2.06-.94-2.06-.94-.94-2.06-.94 2.06-2.06.94zm-11 1L8.5 8.5l.94-2.06 2.06-.94-2.06-.94L8.5 2.5l-.94 2.06-2.06.94zm10 10l.94 2.06.94-2.06 2.06-.94-2.06-.94-.94-2.06-.94 2.06-2.06.94z\"/><path d=\"M17.41 7.96l-1.37-1.37c-.4-.4-.92-.59-1.43-.59-.52 0-1.04.2-1.43.59L10.3 9.45l-7.72 7.72c-.78.78-.78 2.05 0 2.83L4 21.41c.39.39.9.59 1.41.59.51 0 1.02-.2 1.41-.59l7.78-7.78 2.81-2.81c.8-.78.8-2.07 0-2.86zM5.41 20L4 18.59l7.72-7.72 1.47 1.35L5.41 20z\"/>\n",
              "  </svg>\n",
              "      </button>\n",
              "      \n",
              "  <style>\n",
              "    .colab-df-container {\n",
              "      display:flex;\n",
              "      flex-wrap:wrap;\n",
              "      gap: 12px;\n",
              "    }\n",
              "\n",
              "    .colab-df-convert {\n",
              "      background-color: #E8F0FE;\n",
              "      border: none;\n",
              "      border-radius: 50%;\n",
              "      cursor: pointer;\n",
              "      display: none;\n",
              "      fill: #1967D2;\n",
              "      height: 32px;\n",
              "      padding: 0 0 0 0;\n",
              "      width: 32px;\n",
              "    }\n",
              "\n",
              "    .colab-df-convert:hover {\n",
              "      background-color: #E2EBFA;\n",
              "      box-shadow: 0px 1px 2px rgba(60, 64, 67, 0.3), 0px 1px 3px 1px rgba(60, 64, 67, 0.15);\n",
              "      fill: #174EA6;\n",
              "    }\n",
              "\n",
              "    [theme=dark] .colab-df-convert {\n",
              "      background-color: #3B4455;\n",
              "      fill: #D2E3FC;\n",
              "    }\n",
              "\n",
              "    [theme=dark] .colab-df-convert:hover {\n",
              "      background-color: #434B5C;\n",
              "      box-shadow: 0px 1px 3px 1px rgba(0, 0, 0, 0.15);\n",
              "      filter: drop-shadow(0px 1px 2px rgba(0, 0, 0, 0.3));\n",
              "      fill: #FFFFFF;\n",
              "    }\n",
              "  </style>\n",
              "\n",
              "      <script>\n",
              "        const buttonEl =\n",
              "          document.querySelector('#df-d97dff40-77d8-422e-9a7e-27181f7f4245 button.colab-df-convert');\n",
              "        buttonEl.style.display =\n",
              "          google.colab.kernel.accessAllowed ? 'block' : 'none';\n",
              "\n",
              "        async function convertToInteractive(key) {\n",
              "          const element = document.querySelector('#df-d97dff40-77d8-422e-9a7e-27181f7f4245');\n",
              "          const dataTable =\n",
              "            await google.colab.kernel.invokeFunction('convertToInteractive',\n",
              "                                                     [key], {});\n",
              "          if (!dataTable) return;\n",
              "\n",
              "          const docLinkHtml = 'Like what you see? Visit the ' +\n",
              "            '<a target=\"_blank\" href=https://colab.research.google.com/notebooks/data_table.ipynb>data table notebook</a>'\n",
              "            + ' to learn more about interactive tables.';\n",
              "          element.innerHTML = '';\n",
              "          dataTable['output_type'] = 'display_data';\n",
              "          await google.colab.output.renderOutput(dataTable, element);\n",
              "          const docLink = document.createElement('div');\n",
              "          docLink.innerHTML = docLinkHtml;\n",
              "          element.appendChild(docLink);\n",
              "        }\n",
              "      </script>\n",
              "    </div>\n",
              "  </div>\n",
              "  "
            ],
            "text/plain": [
              "   id                                              tweet label\n",
              "0   1  The CDC currently reports 99031 deaths. In gen...  real\n",
              "1   2  States reported 1121 deaths a small rise from ...  real\n",
              "2   3  Politically Correct Woman (Almost) Uses Pandem...  fake\n",
              "3   4  #IndiaFightsCorona: We have 1524 #COVID testin...  real\n",
              "4   5  Populous states can generate large case counts...  real"
            ]
          },
          "metadata": {},
          "execution_count": 2
        }
      ]
    },
    {
      "cell_type": "code",
      "source": [
        "#text preprocessing and cleaning\n",
        "corpus=[]\n",
        "for i in range(0, len(df)):\n",
        "  tweet=re.sub('[^a-zA-Z]', ' ',df['tweet'][i])\n",
        "  tweet=tweet.lower()\n",
        "  tweet=tweet.split()\n",
        "  tweet=[word for word in tweet if not word in stopwords.words('english')]\n",
        "  tweet=' '.join(tweet)\n",
        "  corpus.append(tweet)\n",
        "\n",
        "#one hot representation\n",
        "voc_size=10000\n",
        "one_hot_rep=[one_hot(words, voc_size) for words in corpus]\n",
        "\n",
        "#embedding\n",
        "embedded_doc=pad_sequences(one_hot_rep, padding='pre', maxlen=50) #we are making each sentences of word 50 if len(sentence)<50 we add 0 as prefix words\n",
        "dim=100  #here dimension is no of features we want for embedding\n",
        "model=Sequential()\n",
        "model.add(Embedding(voc_size, dim, input_length=50)) #vocab_size, dimension and sentence length are parameters\n",
        "model.add(Flatten())\n",
        "model.add(Dense(1, activation='sigmoid'))\n",
        "model.compile(optimizer='adam', loss='binary_crossentropy', metrics=['accuracy']) # compile the model\n",
        "#print(model.summary())  # summarize the model\n",
        "\n",
        "# let's see how our embedded doc is fitted to embedding model \n",
        "X=embedded_doc\n",
        "label_encoder = preprocessing.LabelEncoder()\n",
        "df['label']= label_encoder.fit_transform(df['label'])\n",
        "y=df['label']"
      ],
      "metadata": {
        "id": "BghMWrtL5GDp"
      },
      "execution_count": 3,
      "outputs": []
    },
    {
      "cell_type": "code",
      "source": [
        "#Train Test Split\n",
        "from sklearn.model_selection import train_test_split\n",
        "X_train, X_test, y_train, y_test=train_test_split(X,y, test_size=0.33, random_state=0)"
      ],
      "metadata": {
        "id": "4YRqUeFS5KSg"
      },
      "execution_count": 4,
      "outputs": []
    },
    {
      "cell_type": "code",
      "source": [
        "#Scaling test and train data\n",
        "from sklearn.preprocessing import StandardScaler\n",
        "sc=StandardScaler()\n",
        "X_train=sc.fit_transform(X_train)\n",
        "X_test=sc.transform(X_test)"
      ],
      "metadata": {
        "id": "sqzaPhDzWOvL"
      },
      "execution_count": 5,
      "outputs": []
    },
    {
      "cell_type": "code",
      "source": [
        "X_train = np.reshape(X_train, (X_train.shape[0], X_train.shape[1], 1))\n",
        "X_train.shape[1]"
      ],
      "metadata": {
        "colab": {
          "base_uri": "https://localhost:8080/"
        },
        "id": "dc7A1VzeXHuz",
        "outputId": "47d81c8f-259c-4310-f7fd-0d74cd667b92"
      },
      "execution_count": 6,
      "outputs": [
        {
          "output_type": "execute_result",
          "data": {
            "text/plain": [
              "50"
            ]
          },
          "metadata": {},
          "execution_count": 6
        }
      ]
    },
    {
      "cell_type": "markdown",
      "source": [
        " \n",
        "##**Each RNN cell takes one data input and one hidden state which is passed from a one-time step to the next.**"
      ],
      "metadata": {
        "id": "-OUs0IcV4UeI"
      }
    },
    {
      "cell_type": "markdown",
      "source": [
        "**Simple RNN**"
      ],
      "metadata": {
        "id": "D-g1twya4ddA"
      }
    },
    {
      "cell_type": "code",
      "source": [
        "from keras.layers import SimpleRNN \n",
        "RNNmodel=Sequential()\n",
        "RNNmodel.add(SimpleRNN(units=10, activation='tanh', input_shape = (X_train.shape[1], X_train.shape[2])))\n",
        "RNNmodel.add(Dense(units=1, kernel_initializer='he_normal', activation='sigmoid'))\n",
        "RNNmodel.compile(optimizer='adam', loss='binary_crossentropy', metrics=['accuracy'])\n",
        "model_history = RNNmodel.fit(X_train, y_train, batch_size=10, epochs=21)"
      ],
      "metadata": {
        "colab": {
          "base_uri": "https://localhost:8080/"
        },
        "id": "8nTYxb4B4bf4",
        "outputId": "3c9deff9-8adf-4046-bb22-cf2fa92d57a3"
      },
      "execution_count": 40,
      "outputs": [
        {
          "output_type": "stream",
          "name": "stdout",
          "text": [
            "Epoch 1/21\n",
            "431/431 [==============================] - 5s 9ms/step - loss: 0.6503 - accuracy: 0.6199\n",
            "Epoch 2/21\n",
            "431/431 [==============================] - 4s 9ms/step - loss: 0.5979 - accuracy: 0.6994\n",
            "Epoch 3/21\n",
            "431/431 [==============================] - 4s 8ms/step - loss: 0.5896 - accuracy: 0.7047\n",
            "Epoch 4/21\n",
            "431/431 [==============================] - 4s 8ms/step - loss: 0.5835 - accuracy: 0.7108\n",
            "Epoch 5/21\n",
            "431/431 [==============================] - 4s 8ms/step - loss: 0.5781 - accuracy: 0.7173\n",
            "Epoch 6/21\n",
            "431/431 [==============================] - 4s 8ms/step - loss: 0.5751 - accuracy: 0.7215\n",
            "Epoch 7/21\n",
            "431/431 [==============================] - 4s 8ms/step - loss: 0.5731 - accuracy: 0.7191\n",
            "Epoch 8/21\n",
            "431/431 [==============================] - 4s 8ms/step - loss: 0.5696 - accuracy: 0.7217\n",
            "Epoch 9/21\n",
            "431/431 [==============================] - 4s 9ms/step - loss: 0.5689 - accuracy: 0.7226\n",
            "Epoch 10/21\n",
            "431/431 [==============================] - 4s 8ms/step - loss: 0.5658 - accuracy: 0.7252\n",
            "Epoch 11/21\n",
            "431/431 [==============================] - 4s 8ms/step - loss: 0.5690 - accuracy: 0.7182\n",
            "Epoch 12/21\n",
            "431/431 [==============================] - 4s 9ms/step - loss: 0.5630 - accuracy: 0.7256\n",
            "Epoch 13/21\n",
            "431/431 [==============================] - 4s 8ms/step - loss: 0.5606 - accuracy: 0.7277\n",
            "Epoch 14/21\n",
            "431/431 [==============================] - 4s 8ms/step - loss: 0.5613 - accuracy: 0.7259\n",
            "Epoch 15/21\n",
            "431/431 [==============================] - 4s 8ms/step - loss: 0.5592 - accuracy: 0.7238\n",
            "Epoch 16/21\n",
            "431/431 [==============================] - 4s 9ms/step - loss: 0.5582 - accuracy: 0.7238\n",
            "Epoch 17/21\n",
            "431/431 [==============================] - 4s 8ms/step - loss: 0.5562 - accuracy: 0.7298\n",
            "Epoch 18/21\n",
            "431/431 [==============================] - 4s 8ms/step - loss: 0.5603 - accuracy: 0.7259\n",
            "Epoch 19/21\n",
            "431/431 [==============================] - 4s 8ms/step - loss: 0.5569 - accuracy: 0.7256\n",
            "Epoch 20/21\n",
            "431/431 [==============================] - 4s 8ms/step - loss: 0.5534 - accuracy: 0.7289\n",
            "Epoch 21/21\n",
            "431/431 [==============================] - 4s 8ms/step - loss: 0.5522 - accuracy: 0.7317\n"
          ]
        }
      ]
    },
    {
      "cell_type": "code",
      "source": [
        "#predicting \n",
        "y_pred_model = RNNmodel.predict(X_test)"
      ],
      "metadata": {
        "id": "cUcXgBWoBSV5"
      },
      "execution_count": 43,
      "outputs": []
    },
    {
      "cell_type": "code",
      "source": [
        "y_pred_model =y_pred_model.flatten()\n",
        "y_pred_model =(y_pred_model >0.5)"
      ],
      "metadata": {
        "id": "VOLMs88oBWwq"
      },
      "execution_count": 44,
      "outputs": []
    },
    {
      "cell_type": "code",
      "source": [
        "y_pred_model"
      ],
      "metadata": {
        "colab": {
          "base_uri": "https://localhost:8080/"
        },
        "id": "64RELg46Bh4c",
        "outputId": "2432688a-653c-44ac-f816-7d9fc86a534c"
      },
      "execution_count": 45,
      "outputs": [
        {
          "output_type": "execute_result",
          "data": {
            "text/plain": [
              "array([False,  True, False, ...,  True,  True, False])"
            ]
          },
          "metadata": {},
          "execution_count": 45
        }
      ]
    },
    {
      "cell_type": "code",
      "source": [
        "#confusion matrix and accuracy score for best_model we get after hyperparameter tuning in keras\n",
        "from sklearn.metrics import confusion_matrix, accuracy_score\n",
        "cm_sc=confusion_matrix(y_test, y_pred_model)\n",
        "#calculating accuracy\n",
        "score=accuracy_score(y_pred_model, y_test)\n",
        "\n",
        "print(\"confusion matrix : \\n\", cm_sc)\n",
        "print(\"score : \",score)"
      ],
      "metadata": {
        "colab": {
          "base_uri": "https://localhost:8080/"
        },
        "id": "J6RHQqU0B9ck",
        "outputId": "510aab3d-3b2d-4083-9b80-4bfce95c57e5"
      },
      "execution_count": 46,
      "outputs": [
        {
          "output_type": "stream",
          "name": "stdout",
          "text": [
            "confusion matrix : \n",
            " [[707 311]\n",
            " [287 814]]\n",
            "score :  0.7177914110429447\n"
          ]
        }
      ]
    },
    {
      "cell_type": "code",
      "source": [
        ""
      ],
      "metadata": {
        "id": "5ym8IJ4eCVo4"
      },
      "execution_count": null,
      "outputs": []
    },
    {
      "cell_type": "markdown",
      "source": [
        "##**LSTM**"
      ],
      "metadata": {
        "id": "2UWLhX6CYOBK"
      }
    },
    {
      "cell_type": "code",
      "source": [
        "#The LSTM transforms the vector sequence into a single vector of size lstm_out, containing information about the entire sequence.\n",
        "from keras.layers import LSTM\n",
        "lstm_out=200\n",
        "lstm_model = Sequential()\n",
        "lstm_model.add(LSTM(lstm_out))\n",
        "lstm_model.add(Dense(1,activation='sigmoid'))\n",
        "lstm_model.compile(loss = 'binary_crossentropy', optimizer='adam',metrics = ['accuracy'])\n",
        "lstm_model_history = lstm_model.fit(X_train, y_train,  batch_size=10, epochs=21)"
      ],
      "metadata": {
        "colab": {
          "base_uri": "https://localhost:8080/"
        },
        "id": "YCC4fsHJYTDt",
        "outputId": "65c424c1-e8ab-4656-beae-514c2bd54061"
      },
      "execution_count": 33,
      "outputs": [
        {
          "output_type": "stream",
          "name": "stdout",
          "text": [
            "Epoch 1/21\n",
            "431/431 [==============================] - 33s 68ms/step - loss: 0.5819 - accuracy: 0.7094\n",
            "Epoch 2/21\n",
            "431/431 [==============================] - 34s 78ms/step - loss: 0.5666 - accuracy: 0.7138\n",
            "Epoch 3/21\n",
            "431/431 [==============================] - 30s 69ms/step - loss: 0.5573 - accuracy: 0.7161\n",
            "Epoch 4/21\n",
            "431/431 [==============================] - 30s 69ms/step - loss: 0.5495 - accuracy: 0.7136\n",
            "Epoch 5/21\n",
            "431/431 [==============================] - 29s 68ms/step - loss: 0.5549 - accuracy: 0.7152\n",
            "Epoch 6/21\n",
            "431/431 [==============================] - 29s 68ms/step - loss: 0.5489 - accuracy: 0.7191\n",
            "Epoch 7/21\n",
            "431/431 [==============================] - 29s 67ms/step - loss: 0.5435 - accuracy: 0.7238\n",
            "Epoch 8/21\n",
            "431/431 [==============================] - 29s 68ms/step - loss: 0.5434 - accuracy: 0.7252\n",
            "Epoch 9/21\n",
            "431/431 [==============================] - 29s 68ms/step - loss: 0.5413 - accuracy: 0.7236\n",
            "Epoch 10/21\n",
            "431/431 [==============================] - 29s 68ms/step - loss: 0.5314 - accuracy: 0.7315\n",
            "Epoch 11/21\n",
            "431/431 [==============================] - 29s 67ms/step - loss: 0.5286 - accuracy: 0.7317\n",
            "Epoch 12/21\n",
            "431/431 [==============================] - 29s 68ms/step - loss: 0.5209 - accuracy: 0.7373\n",
            "Epoch 13/21\n",
            "431/431 [==============================] - 30s 70ms/step - loss: 0.5534 - accuracy: 0.7210\n",
            "Epoch 14/21\n",
            "431/431 [==============================] - 30s 70ms/step - loss: 0.5452 - accuracy: 0.7277\n",
            "Epoch 15/21\n",
            "431/431 [==============================] - 30s 70ms/step - loss: 0.5430 - accuracy: 0.7203\n",
            "Epoch 16/21\n",
            "431/431 [==============================] - 30s 70ms/step - loss: 0.5334 - accuracy: 0.7298\n",
            "Epoch 17/21\n",
            "431/431 [==============================] - 29s 68ms/step - loss: 0.5264 - accuracy: 0.7305\n",
            "Epoch 18/21\n",
            "431/431 [==============================] - 29s 67ms/step - loss: 0.5191 - accuracy: 0.7370\n",
            "Epoch 19/21\n",
            "431/431 [==============================] - 29s 66ms/step - loss: 0.5129 - accuracy: 0.7384\n",
            "Epoch 20/21\n",
            "431/431 [==============================] - 29s 68ms/step - loss: 0.5132 - accuracy: 0.7370\n",
            "Epoch 21/21\n",
            "431/431 [==============================] - 29s 67ms/step - loss: 0.5407 - accuracy: 0.7284\n"
          ]
        }
      ]
    },
    {
      "cell_type": "code",
      "source": [
        "#predicting \n",
        "y_pred_model_lstm = lstm_model.predict(X_test)\n",
        "y_pred_model_lstm =y_pred_model_lstm.flatten()\n",
        "y_pred_model_lstm =(y_pred_model_lstm >0.5)\n",
        "y_pred_model_lstm"
      ],
      "metadata": {
        "colab": {
          "base_uri": "https://localhost:8080/"
        },
        "id": "KPAPVUpudBDo",
        "outputId": "bb483d0f-6ded-4173-b2fb-e18bd2554abe"
      },
      "execution_count": 41,
      "outputs": [
        {
          "output_type": "execute_result",
          "data": {
            "text/plain": [
              "array([False,  True, False, ...,  True,  True, False])"
            ]
          },
          "metadata": {},
          "execution_count": 41
        }
      ]
    },
    {
      "cell_type": "code",
      "source": [
        "#confusion matrix and accuracy score for best_model we get after hyperparameter tuning in keras\n",
        "from sklearn.metrics import confusion_matrix, accuracy_score\n",
        "cm_lstm=confusion_matrix(y_test, y_pred_model)\n",
        "#calculating accuracy\n",
        "score_lstm=accuracy_score(y_pred_model_lstm, y_test)\n",
        "\n",
        "print(\"confusion matrix : \\n\", cm_lstm)\n",
        "print(\"score : \",score_lstm)"
      ],
      "metadata": {
        "colab": {
          "base_uri": "https://localhost:8080/"
        },
        "id": "LbYi9KHEdmlO",
        "outputId": "8103c9e7-e23a-49ef-800d-843b629781ce"
      },
      "execution_count": 42,
      "outputs": [
        {
          "output_type": "stream",
          "name": "stdout",
          "text": [
            "confusion matrix : \n",
            " [[645 373]\n",
            " [220 881]]\n",
            "score :  0.7229825389334592\n"
          ]
        }
      ]
    },
    {
      "cell_type": "code",
      "source": [
        ""
      ],
      "metadata": {
        "id": "xLrKcmosiNRI"
      },
      "execution_count": null,
      "outputs": []
    }
  ]
}