{
  "nbformat": 4,
  "nbformat_minor": 0,
  "metadata": {
    "colab": {
      "name": "minor_project_assignment1_tf_idf_vectorization.ipynb",
      "provenance": [],
      "authorship_tag": "ABX9TyNSurQBZWL5WKIY5bb0wMBO",
      "include_colab_link": true
    },
    "kernelspec": {
      "name": "python3",
      "display_name": "Python 3"
    },
    "language_info": {
      "name": "python"
    }
  },
  "cells": [
    {
      "cell_type": "markdown",
      "metadata": {
        "id": "view-in-github",
        "colab_type": "text"
      },
      "source": [
        "<a href=\"https://colab.research.google.com/github/archana3001/DeepLearning_Beginner/blob/master/minor_project_assignment1_tf_idf_vectorization.ipynb\" target=\"_parent\"><img src=\"https://colab.research.google.com/assets/colab-badge.svg\" alt=\"Open In Colab\"/></a>"
      ]
    },
    {
      "cell_type": "code",
      "execution_count": null,
      "metadata": {
        "colab": {
          "base_uri": "https://localhost:8080/"
        },
        "id": "eZu5yROSTfjW",
        "outputId": "3d717bf7-9658-4a85-95be-650a48fc198b"
      },
      "outputs": [
        {
          "output_type": "stream",
          "name": "stdout",
          "text": [
            "Mounted at /content/drive\n"
          ]
        }
      ],
      "source": [
        "from google.colab import drive\n",
        "drive.mount('/content/drive')"
      ]
    },
    {
      "cell_type": "code",
      "source": [
        "import numpy as np\n",
        "import matplotlib.pyplot as plt\n",
        "import pandas as pd"
      ],
      "metadata": {
        "id": "jjhFrTvXTvVP"
      },
      "execution_count": null,
      "outputs": []
    },
    {
      "cell_type": "code",
      "source": [
        "df=pd.read_csv('/content/drive/MyDrive/AILAB/Constraint_English_Train - Constraint_English_Train.csv')\n",
        "print(df.shape)\n",
        "df.head()"
      ],
      "metadata": {
        "colab": {
          "base_uri": "https://localhost:8080/",
          "height": 224
        },
        "id": "xHfy94eXT2oW",
        "outputId": "94bac026-34b7-4870-d0d3-b16a920f41b5"
      },
      "execution_count": null,
      "outputs": [
        {
          "output_type": "stream",
          "name": "stdout",
          "text": [
            "(6420, 3)\n"
          ]
        },
        {
          "output_type": "execute_result",
          "data": {
            "text/html": [
              "\n",
              "  <div id=\"df-be70b2f6-d251-4afd-81e3-20d8cc6ae0e6\">\n",
              "    <div class=\"colab-df-container\">\n",
              "      <div>\n",
              "<style scoped>\n",
              "    .dataframe tbody tr th:only-of-type {\n",
              "        vertical-align: middle;\n",
              "    }\n",
              "\n",
              "    .dataframe tbody tr th {\n",
              "        vertical-align: top;\n",
              "    }\n",
              "\n",
              "    .dataframe thead th {\n",
              "        text-align: right;\n",
              "    }\n",
              "</style>\n",
              "<table border=\"1\" class=\"dataframe\">\n",
              "  <thead>\n",
              "    <tr style=\"text-align: right;\">\n",
              "      <th></th>\n",
              "      <th>id</th>\n",
              "      <th>tweet</th>\n",
              "      <th>label</th>\n",
              "    </tr>\n",
              "  </thead>\n",
              "  <tbody>\n",
              "    <tr>\n",
              "      <th>0</th>\n",
              "      <td>1</td>\n",
              "      <td>The CDC currently reports 99031 deaths. In gen...</td>\n",
              "      <td>real</td>\n",
              "    </tr>\n",
              "    <tr>\n",
              "      <th>1</th>\n",
              "      <td>2</td>\n",
              "      <td>States reported 1121 deaths a small rise from ...</td>\n",
              "      <td>real</td>\n",
              "    </tr>\n",
              "    <tr>\n",
              "      <th>2</th>\n",
              "      <td>3</td>\n",
              "      <td>Politically Correct Woman (Almost) Uses Pandem...</td>\n",
              "      <td>fake</td>\n",
              "    </tr>\n",
              "    <tr>\n",
              "      <th>3</th>\n",
              "      <td>4</td>\n",
              "      <td>#IndiaFightsCorona: We have 1524 #COVID testin...</td>\n",
              "      <td>real</td>\n",
              "    </tr>\n",
              "    <tr>\n",
              "      <th>4</th>\n",
              "      <td>5</td>\n",
              "      <td>Populous states can generate large case counts...</td>\n",
              "      <td>real</td>\n",
              "    </tr>\n",
              "  </tbody>\n",
              "</table>\n",
              "</div>\n",
              "      <button class=\"colab-df-convert\" onclick=\"convertToInteractive('df-be70b2f6-d251-4afd-81e3-20d8cc6ae0e6')\"\n",
              "              title=\"Convert this dataframe to an interactive table.\"\n",
              "              style=\"display:none;\">\n",
              "        \n",
              "  <svg xmlns=\"http://www.w3.org/2000/svg\" height=\"24px\"viewBox=\"0 0 24 24\"\n",
              "       width=\"24px\">\n",
              "    <path d=\"M0 0h24v24H0V0z\" fill=\"none\"/>\n",
              "    <path d=\"M18.56 5.44l.94 2.06.94-2.06 2.06-.94-2.06-.94-.94-2.06-.94 2.06-2.06.94zm-11 1L8.5 8.5l.94-2.06 2.06-.94-2.06-.94L8.5 2.5l-.94 2.06-2.06.94zm10 10l.94 2.06.94-2.06 2.06-.94-2.06-.94-.94-2.06-.94 2.06-2.06.94z\"/><path d=\"M17.41 7.96l-1.37-1.37c-.4-.4-.92-.59-1.43-.59-.52 0-1.04.2-1.43.59L10.3 9.45l-7.72 7.72c-.78.78-.78 2.05 0 2.83L4 21.41c.39.39.9.59 1.41.59.51 0 1.02-.2 1.41-.59l7.78-7.78 2.81-2.81c.8-.78.8-2.07 0-2.86zM5.41 20L4 18.59l7.72-7.72 1.47 1.35L5.41 20z\"/>\n",
              "  </svg>\n",
              "      </button>\n",
              "      \n",
              "  <style>\n",
              "    .colab-df-container {\n",
              "      display:flex;\n",
              "      flex-wrap:wrap;\n",
              "      gap: 12px;\n",
              "    }\n",
              "\n",
              "    .colab-df-convert {\n",
              "      background-color: #E8F0FE;\n",
              "      border: none;\n",
              "      border-radius: 50%;\n",
              "      cursor: pointer;\n",
              "      display: none;\n",
              "      fill: #1967D2;\n",
              "      height: 32px;\n",
              "      padding: 0 0 0 0;\n",
              "      width: 32px;\n",
              "    }\n",
              "\n",
              "    .colab-df-convert:hover {\n",
              "      background-color: #E2EBFA;\n",
              "      box-shadow: 0px 1px 2px rgba(60, 64, 67, 0.3), 0px 1px 3px 1px rgba(60, 64, 67, 0.15);\n",
              "      fill: #174EA6;\n",
              "    }\n",
              "\n",
              "    [theme=dark] .colab-df-convert {\n",
              "      background-color: #3B4455;\n",
              "      fill: #D2E3FC;\n",
              "    }\n",
              "\n",
              "    [theme=dark] .colab-df-convert:hover {\n",
              "      background-color: #434B5C;\n",
              "      box-shadow: 0px 1px 3px 1px rgba(0, 0, 0, 0.15);\n",
              "      filter: drop-shadow(0px 1px 2px rgba(0, 0, 0, 0.3));\n",
              "      fill: #FFFFFF;\n",
              "    }\n",
              "  </style>\n",
              "\n",
              "      <script>\n",
              "        const buttonEl =\n",
              "          document.querySelector('#df-be70b2f6-d251-4afd-81e3-20d8cc6ae0e6 button.colab-df-convert');\n",
              "        buttonEl.style.display =\n",
              "          google.colab.kernel.accessAllowed ? 'block' : 'none';\n",
              "\n",
              "        async function convertToInteractive(key) {\n",
              "          const element = document.querySelector('#df-be70b2f6-d251-4afd-81e3-20d8cc6ae0e6');\n",
              "          const dataTable =\n",
              "            await google.colab.kernel.invokeFunction('convertToInteractive',\n",
              "                                                     [key], {});\n",
              "          if (!dataTable) return;\n",
              "\n",
              "          const docLinkHtml = 'Like what you see? Visit the ' +\n",
              "            '<a target=\"_blank\" href=https://colab.research.google.com/notebooks/data_table.ipynb>data table notebook</a>'\n",
              "            + ' to learn more about interactive tables.';\n",
              "          element.innerHTML = '';\n",
              "          dataTable['output_type'] = 'display_data';\n",
              "          await google.colab.output.renderOutput(dataTable, element);\n",
              "          const docLink = document.createElement('div');\n",
              "          docLink.innerHTML = docLinkHtml;\n",
              "          element.appendChild(docLink);\n",
              "        }\n",
              "      </script>\n",
              "    </div>\n",
              "  </div>\n",
              "  "
            ],
            "text/plain": [
              "   id                                              tweet label\n",
              "0   1  The CDC currently reports 99031 deaths. In gen...  real\n",
              "1   2  States reported 1121 deaths a small rise from ...  real\n",
              "2   3  Politically Correct Woman (Almost) Uses Pandem...  fake\n",
              "3   4  #IndiaFightsCorona: We have 1524 #COVID testin...  real\n",
              "4   5  Populous states can generate large case counts...  real"
            ]
          },
          "metadata": {},
          "execution_count": 3
        }
      ]
    },
    {
      "cell_type": "code",
      "source": [
        "#text preprocessing\n",
        "#data cleaning and preprocessing\n",
        "import re\n",
        "import nltk\n",
        "nltk.download('stopwords')\n",
        "from nltk.corpus import stopwords\n",
        "from nltk.stem.porter import PorterStemmer\n",
        "ps=PorterStemmer()\n",
        "corpus=[]\n",
        "for i in range(0, len(df)):\n",
        "  tweet=re.sub('[^a-zA-Z]', ' ',df['tweet'][i])\n",
        "  tweet=tweet.lower()\n",
        "  tweet=tweet.split()\n",
        "  tweet=[ps.stem(word) for word in tweet if not word in stopwords.words('english')]\n",
        "  tweet=' '.join(tweet)\n",
        "  corpus.append(tweet)"
      ],
      "metadata": {
        "colab": {
          "base_uri": "https://localhost:8080/"
        },
        "id": "5E729l26T8To",
        "outputId": "7528beaa-a9a3-4b35-efec-452add08a1c8"
      },
      "execution_count": null,
      "outputs": [
        {
          "output_type": "stream",
          "name": "stdout",
          "text": [
            "[nltk_data] Downloading package stopwords to /root/nltk_data...\n",
            "[nltk_data]   Unzipping corpora/stopwords.zip.\n"
          ]
        }
      ]
    },
    {
      "cell_type": "code",
      "source": [
        "#tf-idf method of vectorization\n",
        "from sklearn.feature_extraction.text import TfidfVectorizer\n",
        "Tfidf_vect = TfidfVectorizer(max_features=5000)\n",
        "X=Tfidf_vect.fit_transform(corpus).toarray()\n",
        "y=pd.get_dummies(df['label'])\n",
        "y=y.iloc[:,1].values\n",
        "X.shape"
      ],
      "metadata": {
        "colab": {
          "base_uri": "https://localhost:8080/"
        },
        "id": "X88Q8GS4T8vR",
        "outputId": "2575a154-1d9a-4871-9c1d-59ac6433ad26"
      },
      "execution_count": null,
      "outputs": [
        {
          "output_type": "execute_result",
          "data": {
            "text/plain": [
              "(6420, 5000)"
            ]
          },
          "metadata": {},
          "execution_count": 5
        }
      ]
    },
    {
      "cell_type": "code",
      "source": [
        "#Train Test Split\n",
        "from sklearn.model_selection import train_test_split\n",
        "X_train, X_test, y_train, y_test=train_test_split(X,y, test_size=0.25, random_state=0)"
      ],
      "metadata": {
        "id": "W7WJVSQNUpB2"
      },
      "execution_count": null,
      "outputs": []
    },
    {
      "cell_type": "code",
      "source": [
        "#training using Naive Bayes Classifier\n",
        "from sklearn.naive_bayes import MultinomialNB\n",
        "tweet_analyse_model=MultinomialNB().fit(X_train, y_train)\n",
        "y_pred=tweet_analyse_model.predict(X_test)\n",
        "y_pred.shape"
      ],
      "metadata": {
        "colab": {
          "base_uri": "https://localhost:8080/"
        },
        "id": "4gfxGVAvUrnw",
        "outputId": "d47aadf4-3763-49b2-b65f-e1b219e9eea4"
      },
      "execution_count": null,
      "outputs": [
        {
          "output_type": "execute_result",
          "data": {
            "text/plain": [
              "(1605,)"
            ]
          },
          "metadata": {},
          "execution_count": 7
        }
      ]
    },
    {
      "cell_type": "code",
      "source": [
        "#confusion matrix \n",
        "from sklearn.metrics import confusion_matrix  \n",
        "cm = confusion_matrix(y_test, y_pred)\n",
        "print(cm)\n",
        "# 1 means real and 0 means fake"
      ],
      "metadata": {
        "colab": {
          "base_uri": "https://localhost:8080/"
        },
        "id": "rRHG3s9sUxFt",
        "outputId": "7ce372eb-662a-469f-e1aa-20b03595b2f2"
      },
      "execution_count": null,
      "outputs": [
        {
          "output_type": "stream",
          "name": "stdout",
          "text": [
            "[[670 102]\n",
            " [ 64 769]]\n"
          ]
        }
      ]
    },
    {
      "cell_type": "code",
      "source": [
        "#calculate accuracy\n",
        "from sklearn.metrics import accuracy_score, precision_score,recall_score,f1_score\n",
        "from sklearn.metrics import classification_report\n",
        "print(\"Accuracy Score of naive bayes Model: \",accuracy_score(y_test, y_pred))\n",
        "print(\"Precision score of naive bayes Model:\", precision_score(y_test, y_pred))\n",
        "print(\"Recall of naive bayes Model:\",recall_score(y_test,y_pred))\n",
        "print(\"f1_score of naive bayes Model:\",f1_score(y_test,y_pred))"
      ],
      "metadata": {
        "colab": {
          "base_uri": "https://localhost:8080/"
        },
        "id": "fT7n9IkgU0IN",
        "outputId": "177d3786-c2d9-4e92-ff48-d81c65c27778"
      },
      "execution_count": null,
      "outputs": [
        {
          "output_type": "stream",
          "name": "stdout",
          "text": [
            "Accuracy Score of naive bayes Model:  0.8965732087227415\n",
            "Precision score of naive bayes Model: 0.8828932261768083\n",
            "Recall of naive bayes Model: 0.9231692677070829\n",
            "f1_score of naive bayes Model: 0.9025821596244132\n"
          ]
        }
      ]
    },
    {
      "cell_type": "code",
      "source": [
        "print(Tfidf_vect.vocabulary_)"
      ],
      "metadata": {
        "colab": {
          "base_uri": "https://localhost:8080/"
        },
        "id": "U34Z_G4qU96b",
        "outputId": "6f77e391-0727-43b8-d5ae-da50d2ff7585"
      },
      "execution_count": null,
      "outputs": [
        {
          "output_type": "stream",
          "name": "stdout",
          "text": [
            "{'cdc': 647, 'current': 1001, 'report': 3697, 'death': 1048, 'gener': 1699, 'discrep': 1164, 'count': 922, 'differ': 1139, 'sourc': 4103, 'small': 4052, 'toll': 4443, 'stand': 4159, 'roughli': 3794, 'peopl': 3235, 'today': 4437, 'state': 4167, 'rise': 3761, 'last': 2444, 'tuesday': 4523, 'southern': 4106, 'http': 1997, 'co': 771, 'ux': 4640, 'polit': 3339, 'correct': 909, 'woman': 4848, 'almost': 126, 'use': 4629, 'pandem': 3168, 'excus': 1443, 'reus': 3737, 'plastic': 3309, 'bag': 338, 'coronaviru': 894, 'nashvil': 2897, 'indiafightscorona': 2117, 'covid': 936, 'test': 4377, 'laboratori': 2422, 'india': 2116, 'th': 4384, 'august': 294, 'done': 1200, 'profbhargava': 3450, 'dg': 1125, 'icmrdelhi': 2039, 'staysaf': 4178, 'indiawillwin': 2122, 'popul': 3352, 'larg': 2441, 'case': 624, 'look': 2540, 'new': 2938, 'per': 3237, 'million': 2748, 'smaller': 4053, 'show': 3993, 'california': 580, 'texa': 4380, 'al': 106, 'ar': 224, 'id': 2044, 'ks': 2404, 'ky': 2413, 'la': 2418, 'ms': 2849, 'nv': 3017, 'sc': 3873, 'act': 34, 'found': 1621, 'averag': 302, 'person': 3251, 'illinoi': 2067, 'infect': 2136, 'data': 1025, 'growth': 1802, 'rate': 3600, 'declin': 1060, 'time': 4424, 'factor': 1495, 'stay': 4173, 'home': 1957, 'order': 3105, 'restrict': 3726, 'put': 3514, 'place': 3299, 'fe': 1541, 'posit': 3362, 'symptom': 4308, 'away': 314, 'learn': 2471, 'recommend': 3636, 'around': 241, 'other': 3116, 'obama': 3027, 'call': 581, 'trump': 4513, 'respons': 3722, 'disast': 1154, 'clearli': 747, 'administr': 51, 'leav': 2473, 'kind': 2376, 'game': 1683, 'plan': 3303, 'someth': 4086, 'like': 2506, 'retract': 3733, 'hydroxychloroquin': 2020, 'chloroquin': 713, 'without': 4842, 'macrolid': 2577, 'treatment': 4496, 'multin': 2858, 'registri': 3656, 'analysi': 155, 'lancet': 2436, 'take': 4326, 'simpl': 4013, 'daili': 1013, 'precaut': 3389, 'help': 1907, 'prevent': 3416, 'spread': 4138, 'respiratori': 3720, 'ill': 2065, 'protect': 3477, 'uargztrh': 4547, 'nba': 2905, 'month': 2820, 'march': 2624, 'utah': 4635, 'jazz': 2261, 'got': 1757, 'matter': 2646, 'hour': 1984, 'sluggish': 4049, 'nk': 2974, 'announc': 171, 'first': 1584, 'particip': 3191, 'age': 81, 'dose': 1206, 'phase': 3267, 'studi': 4226, 'mrna': 2848, 'vaccin': 4649, 'novel': 3003, 'read': 3615, 'cs': 981, 'coronavirusupd': 903, 'lakh': 2431, 'rd': 3611, 'success': 4242, 'day': 1034, 'cumul': 991, 'date': 1028, 'reach': 3613, 'tpm': 4468, 'cross': 974, 'public': 3495, 'transport': 4489, 'practic': 3379, 'social': 4068, 'distanc': 1178, 'avoid': 308, 'touch': 4458, 'surfac': 4279, 'hand': 1850, 'hygien': 2021, 'vhhd': 4684, 'ufv': 4555, 'till': 4423, 'total': 4456, 'amp': 151, 'relat': 3668, 'manipur': 2615, 'covidupd': 943, 'coronaupd': 890, 'corona': 887, 'coronavirusindia': 899, 'coronaviruspandem': 902, 'au': 288, 'donald': 1197, 'neglig': 2926, 'incompet': 2107, 'die': 1136, 'nearli': 2918, 'american': 140, 'work': 4854, 'yet': 4941, 'back': 330, 'unbeliev': 4574, 'continu': 868, 'scale': 3874, 'peak': 3223, 'sampl': 3848, 'consecut': 847, 'countri': 924, 'achiev': 29, 'level': 2488, 'high': 1925, 'pmoindia': 3324, 'drharshvardhan': 1226, 'ashwinikchoubey': 254, 'pib': 3279, 'ddnewsliv': 1041, 'ship': 3979, 'vial': 4687, 'compani': 814, 'nih': 2967, 'multipl': 2859, 'facebook': 1488, 'post': 3364, 'claim': 736, 'fine': 1581, 'talk': 4329, 'conspiraci': 854, 'includ': 2104, 'screenshot': 3895, 'segment': 3921, 'australian': 297, 'breakfast': 506, 'televis': 4361, 'evid': 1421, 'nobel': 2980, 'prize': 3436, 'laureat': 2455, 'tasuku': 4341, 'honjo': 1968, 'say': 3871, 'natur': 2902, 'fact': 1492, 'professor': 3452, 'said': 3839, 'greatli': 1785, 'sadden': 3833, 'name': 2888, 'misinform': 2771, 'latest': 2447, 'coronacheck': 888, 'nz': 3024, 'tracker': 4473, 'app': 201, 'remain': 3679, 'import': 2089, 'alert': 112, 'encourag': 1349, 'download': 1213, 'similar': 4012, 'one': 3078, 'keep': 2351, 'record': 3638, 'go': 1737, 'break': 504, 'news': 2945, 'presid': 3405, 'ask': 259, 'foreign': 1614, 'nation': 2899, 'depart': 1095, 'south': 4104, 'africa': 73, 'june': 2319, 'due': 1253, 'increas': 2109, 'upper': 4613, 'middl': 2727, 'economi': 1289, 'confirm': 841, 'covax': 931, 'facil': 1490, 'number': 3014, 'grow': 1800, 'urg': 4621, 'join': 2297, 'septemb': 3940, 'drtedro': 1243, 'intrigu': 2197, 'possibl': 3363, 'chang': 680, 'anxieti': 188, 'may': 2652, 'function': 1664, 'invas': 2202, 'cn': 768, 'brain': 497, 'babi': 328, 'get': 1711, 'job': 2290, 'kid': 2370, 'bc': 379, 'ai': 93, 'christma': 720, 'alcohol': 111, 'free': 1638, 'sanit': 3852, 'develop': 1119, 'univers': 4599, 'kenya': 2357, 'appendix': 206, 'gather': 1691, 'huge': 2002, 'goe': 1744, 'evalu': 1408, 'access': 18, 'yesterday': 4940, 'complet': 823, 'manag': 2607, 'isol': 2228, 'quarantin': 3542, 'routin': 3798, 'either': 1311, 'bring': 517, 'mask': 2637, 'vapor': 4660, 'peroxid': 3249, 'uv': 4638, 'light': 2505, 'heat': 1899, 'effect': 1299, 'lz': 2573, 'realdonaldtrump': 3619, 'shift': 3978, 'focu': 1603, 'moment': 2812, 'coronavirusoutbreak': 901, 'updat': 4610, 'run': 3812, 'timelin': 4425, 'viru': 4710, 'pgxjssarcb': 3261, 'us': 4625, 'recent': 3630, 'think': 4399, 'belong': 403, 'list': 2515, 'doctor': 1191, 'imag': 2071, 'share': 3968, 'chant': 685, 'hare': 1864, 'weekend': 4782, 'choos': 715, 'spend': 4124, 'outdoor': 3122, 'event': 1411, 'ft': 1655, 'apart': 196, 'wear': 4771, 'cloth': 760, 'face': 1487, 'cover': 934, 'slow': 4046, 'mother': 2835, 'stop': 4200, 'breastfeed': 509, 'boost': 478, 'efficaci': 1300, 'singapor': 4019, 'airlin': 100, 'flight': 1596, 'outbreak': 3120, 'florida': 1598, 'governor': 1761, 'ron': 3785, 'desanti': 1105, 'ban': 349, 'beer': 392, 'flatten': 1593, 'curv': 1002, 'apologis': 200, 'govern': 1760, 'ekiti': 1314, 'error': 1389, 'commit': 805, 'improv': 2094, 'qualiti': 3541, 'control': 871, 'process': 3445, 'ensur': 1362, 'accur': 26, 'transpar': 4488, 'nyt': 3021, 'invent': 2203, 'video': 4693, 'fight': 1571, 'hospit': 1977, 'alon': 127, 'cough': 918, 'directli': 1149, 'onto': 3086, 'launch': 2454, 'solidar': 4081, 'fund': 1665, 'far': 1517, 'mobil': 2794, 'individu': 2125, 'addit': 45, 'billion': 434, 'member': 2686, 'support': 4271, 'footbal': 1610, 'player': 3314, 'cristiano': 968, 'ronaldo': 3786, 'turn': 4530, 'hotel': 1981, 'patient': 3204, 'pay': 3214, 'staff': 4152, 'asymptomat': 276, 'worker': 4855, 'involv': 2210, 'airport': 102, 'border': 480, 'part': 3188, 'wider': 4817, 'surveil': 4287, 'measur': 2671, 'expect': 1458, 'oper': 3092, 'earli': 1272, 'juli': 2316, 'want': 4752, 'lockdown': 2532, 'progress': 3457, 'uk': 4561, 'pm': 3322, 'govt': 1763, 'insist': 2163, 'second': 3907, 'oc': 3035, 'er': 1385, 'lg': 2491, 'publish': 3496, 'qf': 3527, 'recoveri': 3640, 'exceed': 1435, 'hd': 1882, 'top': 4451, 'activ': 36, 'caseload': 625, 'also': 131, 'present': 3404, 'wpe': 4874, 'capac': 601, 'give': 1722, 'excess': 1438, 'next': 2952, 'week': 4781, 'project': 3459, 'arriv': 244, 'departur': 1096, 'school': 3885, 'struggl': 4223, 'cope': 882, 'lack': 2425, 'sinc': 4017, 'becam': 388, 'compulsori': 830, 'pupil': 3506, 'return': 3734, 'child': 704, 'explain': 1466, 'scientist': 3889, 'astrazeneca': 275, 'complain': 821, 'delay': 1079, 'readi': 3616, 'wide': 4815, 'incl': 2103, 'jkwwztfwss': 2284, 'wearamask': 4772, 'worldmaskweek': 4860, 'nigeria': 2964, 'lago': 2428, 'gomb': 1748, 'plateau': 3311, 'kwara': 2411, 'enugu': 1369, 'ogun': 3059, 'katsina': 2344, 'bauchi': 373, 'osun': 3114, 'river': 3766, 'discharg': 1158, 'xh': 4904, 'alreadi': 130, 'pnbf': 3328, 'rt': 3806, 'mohfw': 2806, 'sustain': 4293, 'surg': 4280, 'ahead': 90, 'highest': 1927, 'singl': 4021, 'itali': 2233, 'surrend': 4286, 'exhaust': 1449, 'forc': 1611, 'medic': 2678, 'donaldtrump': 1198, 'fbi': 1536, 'ellencutch': 1329, 'move': 2840, 'offlin': 3055, 'user': 4631, 'site': 4026, 'told': 4442, 'deliv': 1083, 'orwel': 3111, 'dead': 1043, 'live': 2519, 'bridg': 515, 'kl': 2387, 'toiletpap': 4440, 'resid': 3710, 'york': 4952, 'rule': 3809, 'allow': 125, 'england': 1356, 'fail': 1499, 'self': 3923, 'click': 748, 'pqd': 3378, 'central': 661, 'given': 1723, 'permiss': 3247, 'open': 3090, 'approv': 215, 'lab': 2419, 'consist': 853, 'pvt': 3516, 'covidtest': 942, 'come': 797, 'pressur': 3410, 'avail': 301, 'lmm': 2524, 'fewer': 1563, 'white': 4805, 'paper': 3177, 'examin': 1432, 'although': 134, 'affect': 69, 'see': 3915, 'intens': 2181, 'transmiss': 4486, 'rel': 3667, 'group': 1798, 'justin': 2324, 'trudeau': 4510, 'resign': 3712, 'amidst': 143, 'georg': 1706, 'soro': 4097, 'born': 482, 'sensit': 3933, 'definit': 1074, 'specialist': 4117, 'seen': 3920, 'real': 3618, 'hard': 1861, 'thing': 4398, 'alexismadrig': 113, 'expert': 1464, 'cow': 946, 'dung': 1256, 'urin': 4623, 'yoga': 4949, 'ayush': 320, 'treat': 4495, 'main': 2593, 'mode': 2798, 'droplet': 1239, 'smoker': 4060, 'blow': 463, 'carri': 622, 'exhal': 1448, 'regardless': 3651, 'steer': 4185, 'clear': 746, 'smoke': 4059, 'caus': 636, 'variou': 4665, 'health': 1889, 'problem': 3442, 'af': 67, 'articl': 248, 'bill': 433, 'gate': 1690, 'would': 4871, 'modifi': 2803, 'human': 2003, 'dna': 1189, 'surgeon': 4281, 'dyk': 1267, 'handwash': 1852, 'best': 413, 'way': 4766, 'virus': 4711, 'accord': 22, 'haryana': 1872, 'recoveryr': 3641, 'gurugram': 1823, 'oz': 3151, 'kcdajij': 2348, 'sp': 4108, 'sunday': 4262, 'monday': 2814, 'tend': 4367, 'dip': 1146, 'still': 4193, 'jump': 2318, 'holiday': 1955, 'oj': 3065, 'world': 4859, 'organ': 3108, 'parliament': 3187, 'went': 4792, 'empti': 1346, 'thousand': 4405, 'twitter': 4537, 'youtub': 4958, 'salt': 3845, 'remedi': 3682, 'un': 4571, 'secretari': 3910, 'antonio': 186, 'goal': 1738, 'question': 3547, 'made': 2581, 'erad': 1386, 'poverti': 3370, 'hunger': 2007, 'instagram': 2166, 'taint': 4323, 'circul': 727, 'mani': 2612, 'across': 33, 'track': 4472, 'bulk': 550, 'louisiana': 2548, 'philippin': 3271, 'senat': 3927, 'silent': 4010, 'crisi': 966, 'vocal': 4729, 'closur': 759, 'contribut': 870, 'fatal': 1526, 'consequ': 849, 'origin': 3110, 'vulner': 4740, 'older': 3070, 'citizen': 731, 'black': 451, 'asian': 257, 'minor': 2762, 'ethnic': 1401, 'commun': 811, 'key': 2362, 'commonli': 810, 'poorli': 3350, 'paid': 3159, 'welfar': 4786, 'covidnewsbymib': 940, 'tota': 4455, 'italian': 2234, 'nobodi': 2981, 'danger': 1020, 'flu': 1600, 'season': 3903, 'influenza': 2143, 'mandatori': 2610, 'georgia': 1707, 'fall': 1506, 'mortal': 2829, 'significantli': 4009, 'lower': 2551, 'mt': 2852, 'roskil': 3792, 'evangel': 1409, 'fellowship': 1554, 'bereav': 409, 'sub': 4233, 'cluster': 763, 'whose': 4813, 'zealand': 4979, 'receiv': 3629, 'care': 614, 'april': 220, 'breakdown': 505, 'fct': 1538, 'kano': 2338, 'oyo': 3150, 'edo': 1295, 'kaduna': 2334, 'akwa': 105, 'ibom': 2032, 'delta': 1085, 'ondo': 3077, 'niger': 2963, 'benu': 408, 'anambra': 157, 'borno': 483, 'jigawa': 2277, 'biggest': 430, 'seem': 3918, 'soon': 4091, 'recov': 3639, 'via': 4686, 'galicia': 1681, 'enabl': 1348, 'set': 3951, 'expand': 1456, 'mechan': 2674, 'detail': 1114, 'visit': 4713, 'fqhg': 1630, 'xrn': 4914, 'icmrfightscovid': 2040, 'minist': 2759, 'pregnant': 3396, 'women': 4849, 'higher': 1926, 'birth': 446, 'trial': 4500, 'underway': 4586, 'easier': 1278, 'proper': 3468, 'medicin': 2680, 'etc': 1398, 'infecti': 2137, 'diseas': 1166, 'acquir': 32, 'local': 2529, 'unknown': 4600, 'compar': 815, 'mexico': 2711, 'even': 1410, 'close': 757, 'fp': 1628, 'auckland': 289, 'base': 362, 'connect': 845, 'exist': 1451, 'contact': 863, 'household': 1986, 'previous': 3419, 'investig': 2206, 'gp': 1766, 'wellington': 4789, 'precautionari': 3390, 'messag': 2701, 'catch': 632, 'fire': 1583, 'amount': 150, 'ladi': 2426, 'appli': 210, 'near': 2916, 'end': 1350, 'burn': 561, 'giuliani': 1721, 'bought': 488, 'novarti': 3002, 'primari': 3422, 'supplier': 4270, 'februari': 1545, 'student': 4225, 'pondicherri': 3347, 'accept': 17, 'ever': 1413, 'xbi': 4897, 'fever': 1562, 'runni': 3813, 'nose': 2995, 'came': 583, 'suddenli': 4248, 'good': 1751, 'chanc': 676, 'could': 919, 'watch': 4763, 'find': 1580, 'panda': 3167, 'oy': 3149, 'china': 708, 'mumbai': 2861, 'district': 1183, 'maharastra': 2590, 'ccqiygbxl': 646, 'drhvoffic': 1227, 'mantralayaroom': 2617, 'coronaupdatesinindia': 892, 'kz': 2416, 'weekli': 4783, 'common': 809, 'cold': 780, 'lj': 2523, 'suspect': 4290, 'becom': 389, 'sever': 3954, 'mean': 2665, 'requir': 3704, 'ventil': 4677, 'breath': 510, 'camila': 586, 'pitanga': 3295, 'brazilian': 501, 'actress': 38, 'contract': 869, 'caught': 635, 'malaria': 2600, 'admit': 53, 'wrong': 4881, 'sudden': 4247, 'syndrom': 4310, 'gap': 1686, 'parti': 3189, 'deadli': 1044, 'cabinet': 575, 'offic': 3052, 'emphasi': 1341, 'kayburley': 2345, 'hk': 1943, 'ay': 318, 'ye': 4934, 'jame': 2252, 'gross': 1796, 'well': 4787, 'quit': 3553, 'refus': 3649, 'tabl': 4317, 'dashboard': 1024, 'reason': 3625, 'beyond': 419, 'drove': 1240, 'much': 2855, 'solid': 4080, 'driven': 1233, 'lost': 2546, 'view': 4695, 'bihar': 431, 'extend': 1476, 'congress': 844, 'chief': 702, 'four': 1624, 'profit': 3454, 'reduc': 3644, 'held': 1903, 'virtual': 4709, 'meet': 2683, 'ut': 4634, 'adequ': 47, 'oxygen': 3148, 'healthcar': 1890, 'intra': 2195, 'inter': 2183, 'movement': 2841, 'ja': 2243, 'ey': 1482, 'hcp': 1880, 'attend': 283, 'coca': 775, 'aug': 292, 'et': 1397, 'zoom': 4992, 'topic': 4452, 'telehealth': 4359, 'implement': 2087, 'stori': 4203, 'field': 1569, 'vwvkebacnf': 4741, 'healthi': 1892, 'year': 4936, 'old': 3069, 'boy': 494, 'life': 2502, 'collect': 786, 'everi': 1414, 'team': 4352, 'collat': 784, 'result': 3727, 'inform': 2146, 'nigerian': 2965, 'final': 1577, 'version': 4681, 'racial': 3565, 'partnership': 3196, 'dribram': 1229, 'major': 2596, 'effort': 1302, 'volunt': 4732, 'hope': 1971, 'htyv': 1998, 'ta': 4315, 'acc': 15, 'incub': 2111, 'period': 3245, 'exposur': 1473, 'onset': 3084, 'median': 2677, 'estim': 1396, 'long': 2538, 'sm': 4051, 'nasal': 2895, 'side': 4004, 'combin': 796, 'probabl': 3440, 'two': 4538, 'middlemor': 2728, 'north': 2990, 'shore': 3986, 'neither': 2930, 'icu': 2042, 'hiv': 1940, 'interrupt': 2191, 'program': 3455, 'risk': 3763, 'save': 3869, 'full': 1660, 'author': 298, 'jr': 2310, 'leader': 2467, 'vital': 4718, 'must': 2867, 'make': 2597, 'decis': 1057, 'behavior': 397, 'az': 321, 'model': 2799, 'advis': 62, 'reassur': 3626, 'followlasg': 1607, 'rapid': 3591, 'strengthen': 4213, 'lga': 2492, 'provid': 3485, 'newli': 2944, 'walk': 4749, 'awar': 312, 'five': 1588, 'viz': 4720, 'maharashtra': 2589, 'tamil': 4331, 'nadu': 2881, 'andhra': 161, 'pradesh': 3381, 'karnataka': 2342, 'uttar': 4636, 'began': 393, 'screen': 3894, 'passeng': 3198, 'modi': 2802, 'mandat': 2609, 'detect': 1115, 'indian': 2120, 'militari': 2745, 'bio': 438, 'weapon': 4770, 'armi': 239, 'indor': 2129, 'polic': 3335, 'inject': 2154, 'blood': 460, 'muslim': 2866, 'photo': 3273, 'clip': 754, 'coupl': 925, 'dataset': 1027, 'nyc': 3020, 'separ': 3937, 'account': 24, 'rz': 3827, 'youth': 4957, 'sport': 4135, 'resum': 3728, 'visitor': 4714, 'coach': 772, 'sick': 4003, 'offer': 3051, 'tip': 4426, 'safeti': 3837, 'op': 3088, 'politician': 3341, 'ministri': 2760, 'review': 3741, 'exhibit': 1450, 'leak': 2470, 'planet': 3306, 'anoth': 173, 'known': 2393, 'washington': 4761, 'rock': 3780, 'system': 4312, 'gum': 1820, 'spray': 4137, 'night': 2966, 'declar': 1059, 'punish': 3504, 'offens': 3050, 'socialdist': 4069, 'sign': 4006, 'pledg': 3316, 'bypass': 569, 'arthurcaplan': 247, 'bleach': 455, 'solut': 4082, 'disinfect': 1167, 'product': 3448, 'food': 1608, 'identifi': 2048, 'kit': 2382, 'doubt': 1210, 'rais': 3575, 'failur': 1500, 'clinic': 751, 'committe': 806, 'signific': 4008, 'mutat': 2870, 'sar': 3857, 'cov': 929, 'icmr': 2038, 'explor': 1468, 'saliva': 3844, 'thirti': 4401, 'nine': 2968, 'written': 4880, 'action': 35, 'pf': 3258, 'express': 1474, 'cautiou': 638, 'optim': 3097, 'late': 2445, 'spring': 4141, 'unclear': 4578, 'longer': 2539, 'distribut': 1182, 'context': 866, 'situat': 4027, 'check': 696, 'roundup': 3796, 'tackl': 4321, 'transit': 4484, 'produc': 3447, 'errat': 1387, 'artifici': 249, 'statu': 4172, 'upto': 4618, 'jv': 2326, 'daniel': 1021, 'radcliff': 3567, 'lakshadweep': 2432, 'hr': 1992, 'novemb': 3004, 'nn': 2978, 'dranthonyfauci': 1221, 'smallpox': 4054, 'believ': 402, 'bodi': 468, 'former': 1618, 'rep': 3692, 'trey': 4498, 'gowdi': 1764, 'wrote': 4883, 'past': 3199, 'media': 2676, 'democrat': 1087, 'elect': 1320, 'equiti': 1383, 'everyon': 1417, 'opportun': 3093, 'address': 46, 'inequ': 2134, 'healthequ': 1891, 'strategi': 4209, 'ovro': 3140, 'page': 3157, 'amazon': 137, 'toxic': 4466, 'chlorin': 712, 'dioxid': 1145, 'industri': 2131, 'often': 3057, 'sold': 4077, 'miracl': 2766, 'miner': 2754, 'cure': 997, 'carolina': 620, 'slowli': 4047, 'patrick': 3206, 'vallanc': 4655, 'certain': 665, 'ad': 41, 'half': 1842, 'totq': 4457, 'zuh': 4997, 'ego': 1304, 'alloc': 124, 'proport': 3474, 'overal': 3130, 'consider': 852, 'threat': 4407, 'great': 1782, 'carona': 621, 'abl': 6, 'within': 4841, 'right': 3756, 'roch': 3779, 'note': 2996, 'trend': 4497, 'nasarawa': 2896, 'zamfara': 4972, 'among': 148, 'wash': 4760, 'interest': 2185, 'ku': 2406, 'nklzcq': 2975, 'never': 2937, 'beach': 382, 'pope': 3351, 'franci': 1635, 'imo': 2081, 'prayer': 3387, 'rooftop': 3788, 'despit': 1110, 'tool': 4449, 'acceler': 16, 'aim': 97, 'equit': 1382, 'form': 1617, 'mild': 2741, 'fallen': 1507, 'lot': 2547, 'plummet': 3320, 'northeast': 2991, 'od': 3043, 'imperialcolleg': 2085, 'prof': 3449, 'robin': 3777, 'shattock': 3971, 'roboski': 3778, 'vacanc': 4647, 'nurs': 3015, 'profession': 3451, 'temporari': 4365, 'paulo': 3211, 'funer': 1667, 'deceas': 1053, 'sri': 4144, 'lankan': 2440, 'daughter': 1030, 'violat': 4701, 'lanka': 2439, 'polici': 3337, 'travel': 4491, 'ceremoni': 664, 'shortli': 3989, 'oversea': 3136, 'morn': 2826, 'tokoroa': 4441, 'pacif': 3153, 'region': 3653, 'step': 4188, 'prepar': 3400, 'whoimpact': 4811, 'covidview': 944, 'indic': 2123, 'usual': 4633, 'lag': 2427, 'behind': 399, 'zp': 4993, 'vylo': 4742, 'pb': 3218, 'true': 4511, 'sore': 4095, 'throat': 4410, 'gargl': 1688, 'warm': 4756, 'water': 4764, 'feel': 1550, 'better': 416, 'direct': 1148, 'shown': 3995, 'monkey': 2818, 'expos': 1472, 'less': 2483, 'lung': 2565, 'sciencemagazin': 3887, 'gt': 1804, 'lr': 2554, 'deal': 1046, 'doomsday': 1203, 'scenario': 3880, 'measl': 2670, 'xx': 4921, 'nb': 2904, 'rn': 3769, 'children': 706, 'adult': 57, 'sd': 3896, 'grate': 1778, 'ambul': 138, 'port': 3354, 'servic': 3950, 'fmohnigeria': 1601, 'emerg': 1336, 'centr': 660, 'sadli': 3835, 'ward': 4754, 'waikato': 4745, 'speedi': 4123, 'uddhav': 4550, 'thackeray': 4385, 'christian': 719, 'pray': 3386, 'jesu': 2269, 'nationwid': 2900, 'downward': 1215, 'begin': 394, 'nagpur': 2882, 'along': 128, 'three': 4409, 'hispan': 1936, 'non': 2983, 'kia': 2368, 'ora': 3102, 'partner': 3195, 'permit': 3248, 'enter': 1363, 'lowest': 2552, 'rk': 3767, 'union': 4596, 'impos': 2091, 'yx': 4969, 'airnewsalert': 101, 'mygovindia': 2876, 'mix': 2784, 'seattl': 3905, 'mh': 2715, 'lie': 2500, 'demand': 1086, 'bail': 339, 'pension': 3234, 'anti': 177, 'vaxxer': 4669, 'decid': 1056, 'condit': 837, 'pretend': 3413, 'dawxnypj': 1033, 'migrat': 2737, 'xq': 4911, 'backlog': 332, 'welsh': 4790, 'counti': 923, 'cy': 1009, 'sg': 3958, 'algeria': 115, 'outsid': 3127, 'regard': 3650, 'vast': 4666, 'st': 4148, 'domin': 1196, 'casual': 628, 'need': 2923, 'wait': 4746, 'prime': 3424, 'bori': 481, 'johnson': 2296, 'prioriti': 3429, 'follow': 1606, 'liaison': 2495, 'antibodi': 179, 'fals': 1508, 'repres': 3700, 'uxqrrmn': 4641, 'man': 2605, 'beaten': 387, 'pzrmh': 3521, 'bl': 450, 'mey': 2712, 'broken': 530, 'mass': 2638, 'myanmar': 2875, 'thailand': 4386, 'particularli': 3194, 'worrisom': 4864, 'steep': 4184, 'earlier': 1273, 'research': 3707, 'physician': 3277, 'employ': 1343, 'decad': 1052, 'ireland': 2221, 'entir': 1364, 'felt': 1555, 'unwel': 4607, 'wild': 4822, 'anim': 170, 'road': 3773, 'internet': 2189, 'pictur': 3283, 'herd': 1913, 'round': 3795, 'lake': 2430, 'club': 762, 'chandigarh': 678, 'friday': 1647, 'ny': 3019, 'pa': 3152, 'optimist': 3099, 'point': 3332, 'left': 2475, 'chart': 690, 'suggest': 4253, 'mitig': 2783, 'thank': 4389, 'extrem': 1480, 'insight': 2162, 'trust': 4515, 'websit': 4777, 'summari': 4259, 'realli': 3624, 'tout': 4462, 'vitamin': 4719, 'broke': 529, 'obvious': 3034, 'greater': 1783, 'howev': 1987, 'stun': 4228, 'unit': 4598, 'sldrvxxfcz': 4040, 'sir': 4023, 'ganga': 1685, 'ram': 3580, 'impli': 2088, 'delhi': 1081, 'miser': 2769, 'sack': 3830, 'charg': 687, 'agre': 87, 'consid': 851, 'miq': 2765, 'joe': 2292, 'diffi': 1140, 'label': 2420, 'assumpt': 272, 'assum': 271, 'baselin': 364, 'occup': 3037, 'bed': 390, 'doubl': 1208, 'bame': 348, 'potenti': 3367, 'assess': 267, 'ur': 4620, 'discov': 1162, 'though': 4403, 'steadi': 4180, 'vm': 4726, 'link': 2510, 'urgent': 4622, 'busi': 563, 'aid': 94, 'stamp': 4158, 'duti': 1261, 'garden': 1687, 'space': 4109, 'disrupt': 1176, 'anyon': 190, 'neg': 2925, 'chri': 717, 'frequenc': 1644, 'comprehens': 828, 'ebonyi': 1285, 'taraba': 4337, 'tamilnadu': 4332, 'sep': 3936, 'coronaupdatesindia': 891, 'zs': 4995, 'blame': 452, 'pend': 3232, 'broaden': 525, 'grade': 1769, 'criteria': 969, 'third': 4400, 'climb': 750, 'histor': 1937, 'pti': 3493, 'ani': 169, 'low': 2550, 'exact': 1428, 'match': 2642, 'broadcast': 524, 'map': 2621, 'spain': 4110, 'size': 4030, 'divers': 1185, 'tak': 4325, 'chines': 709, 'quran': 3555, 'namaz': 2887, 'forecast': 1613, 'decreas': 1062, 'sept': 3939, 'predict': 3393, 'cgmampx': 670, 'jhb': 2275, 'jg': 2272, 'bank': 353, 'tell': 4362, 'spent': 4125, 'eu': 1402, 'trillion': 4505, 'promis': 3461, 'mikovit': 2739, 'scientif': 3888, 'viral': 4703, 'nanci': 2889, 'pelosi': 3229, 'honor': 1969, 'sj': 4031, 'whoafro': 4809, 'safe': 3836, 'clean': 744, 'maintain': 2595, 'mar': 2622, 'oxford': 3146, 'french': 1643, 'hold': 1954, 'denounc': 1093, 'violenc': 4702, 'oq': 3101, 'warn': 4757, 'consum': 860, 'cabbag': 573, 'pronounc': 3465, 'exampl': 1433, 'ca': 571, 'tue': 4522, 'mon': 2813, 'complic': 827, 'know': 2391, 'strong': 4219, 'hit': 1939, 'especi': 1392, 'highlight': 1929, 'red': 3642, 'spike': 4126, 'start': 4165, 'tomorrow': 4445, 'bhopal': 422, 'madhya': 2582, 'citi': 730, 'coronavirusfact': 897, 'saturday': 3865, 'thread': 4406, 'diagnos': 1131, 'whatsapp': 4801, 'forward': 1619, 'attribut': 287, 'cnn': 770, 'dr': 1220, 'li': 2494, 'wenliang': 4791, 'whistleblow': 4804, 'propaganda': 3467, 'document': 1192, 'chemic': 698, 'methylxanthin': 2707, 'stimul': 4194, 'least': 2472, 'perform': 3242, 'immun': 2077, 'debunk': 1051, 'hoax': 1952, 'fast': 1522, 'clarif': 738, 'observ': 3031, 'gavinnewsom': 1694, 'livestream': 2522, 'releas': 3671, 'pose': 3361, 'door': 1204, 'onlin': 3082, 'medscap': 2681, 'young': 4955, 'kill': 2372, 'hpv': 1988, 'materi': 2643, 'properli': 3469, 'egyptian': 1305, 'secret': 3909, 'charl': 689, 'lieber': 2501, 'harvard': 1870, 'arrest': 243, 'usa': 4626, 'manufactur': 2620, 'sell': 3925, 'tv': 4531, 'station': 4170, 'massachusett': 2639, 'mountain': 2837, 'switzerland': 4307, 'colour': 792, 'flag': 1592, 'gratitud': 1779, 'send': 3928, 'imam': 2073, 'except': 1436, 'ramadan': 3581, 'mouth': 2838, 'kept': 2359, 'wet': 4796, 'japanes': 2260, 'creat': 956, 'wuhan': 4887, 'collaps': 783, 'minut': 2764, 'celebr': 656, 'janata': 2255, 'curfew': 998, 'repeatedli': 3694, 'israel': 2230, 'zero': 4981, 'isra': 2229, 'drink': 1231, 'hot': 1980, 'lemon': 2481, 'bake': 342, 'soda': 4072, 'purportedli': 3511, 'thu': 4415, 'prove': 3483, 'seriou': 3943, 'actor': 37, 'shah': 3961, 'khan': 2366, 'donat': 1199, 'money': 2815, 'pakistan': 3162, 'russian': 3818, 'vladimir': 4724, 'putin': 3515, 'russia': 3817, 'jail': 2246, 'rajasthan': 3576, 'da': 1011, 'refer': 3646, 'brazil': 500, 'area': 228, 'inherit': 2151, 'audio': 291, 'unidentifi': 4595, 'massiv': 2640, 'campaign': 588, 'essenti': 1393, 'mustard': 2869, 'oil': 3064, 'surgeri': 4282, 'elig': 1325, 'equip': 1381, 'lead': 2466, 'regist': 3654, 'affair': 68, 'tri': 4499, 'abort': 7, 'combat': 795, 'alongsid': 129, 'guinean': 1818, 'await': 311, 'earth': 1275, 'protest': 3479, 'lock': 2531, 'mla': 2788, 'feet': 1551, 'religi': 3677, 'head': 1883, 'colleg': 787, 'ineffect': 2133, 'homeopath': 1961, 'stat': 4166, 'notic': 2998, 'drug': 1244, 'director': 1150, 'propos': 3475, 'tea': 4349, 'gujarat': 1819, 'quot': 3554, 'allegedli': 122, 'cannot': 599, 'princ': 3425, 'ayurved': 319, 'extens': 1477, 'madrid': 2583, 'de': 1042, 'suppli': 4269, 'riot': 3759, 'london': 2537, 'item': 2235, 'kingdom': 2379, 'tonight': 4447, 'soldier': 4078, 'street': 4211, 'pass': 3197, 'instruct': 2173, 'locat': 2530, 'channel': 683, 'air': 98, 'weed': 4780, 'tweet': 4533, 'stock': 4196, 'market': 2632, 'stronger': 4220, 'besid': 412, 'judaism': 2313, 'oliv': 3072, 'wonder': 4850, 'bomb': 473, 'peac': 3222, 'offici': 3053, 'jo': 2289, 'doria': 1205, 'blog': 459, 'policemen': 3336, 'pick': 3282, 'stick': 4191, 'cancer': 594, 'somehow': 4084, 'six': 4028, 'pune': 3503, 'defeat': 1068, 'alkalin': 119, 'ph': 3263, 'aamir': 0, 'rs': 3804, 'poor': 3349, 'kg': 2364, 'flour': 1599, 'turkish': 4528, 'bakersfield': 344, 'press': 3408, 'confer': 839, 'sweden': 4300, 'vatican': 4668, 'assist': 269, 'herbal': 1912, 'scream': 3893, 'caption': 604, 'hous': 1985, 'mina': 2751, 'cuba': 987, 'migrant': 2736, 'labor': 2421, 'surat': 4277, 'sent': 3935, 'ohio': 3062, 'gov': 1759, 'mike': 2738, 'dewin': 1121, 'prison': 3431, 'crime': 963, 'wave': 4765, 'feder': 1547, 'bureau': 557, 'tie': 4420, 'purport': 3510, 'hundr': 2006, 'sunlight': 4263, 'diet': 1137, 'lift': 2504, 'shirt': 3980, 'challeng': 674, 'gun': 1821, 'kick': 2369, 'pin': 3291, 'text': 4381, 'associ': 270, 'twice': 4535, 'hw': 2015, 'banana': 350, 'sorri': 4098, 'issu': 2231, 'pleas': 3315, 'email': 1334, 'queri': 3546, 'feedback': 1549, 'tracingapp': 4471, 'focus': 1604, 'contain': 864, 'percentag': 3239, 'steadili': 4181, 'xi': 4905, 'jinp': 2280, 'masjid': 2636, 'request': 3703, 'sara': 3858, 'cunial': 992, 'truth': 4516, 'experi': 1461, 'kin': 2375, 'insur': 2175, 'pradhan': 3382, 'mantri': 2618, 'jeevan': 2265, 'jyoti': 2330, 'bima': 436, 'yojana': 4951, 'pmjjbi': 3323, 'suraksha': 4276, 'pmsbi': 3326, 'whether': 4803, 'xa': 4895, 'qkwzjho': 3532, 'compromis': 829, 'nevada': 2936, 'quietli': 3551, 'revers': 3740, 'block': 458, 'hcq': 1881, 'prescript': 3403, 'saw': 3870, 'stayhom': 4176, 'stayathom': 4174, 'knowledg': 2392, 'dk': 1186, 'green': 1788, 'protein': 3478, 'exercis': 1446, 'sodium': 4073, 'bicarbon': 423, 'iodin': 2211, 'rememb': 3683, 'incid': 2102, 'big': 429, 'someon': 4085, 'deliveri': 1084, 'guy': 1824, 'eat': 1282, 'contamin': 865, 'spit': 4128, 'intern': 2188, 'entiti': 1365, 'sole': 4079, 'global': 1731, 'miss': 2773, 'pool': 3348, 'procur': 3446, 'facemask': 1489, 'skin': 4035, 'volum': 4731, 'regularli': 3660, 'healthlin': 1893, 'reimpos': 3661, 'asid': 258, 'compassion': 817, 'exempt': 1445, 'remind': 3684, 'spoken': 4131, 'scare': 3877, 'collabor': 782, 'determin': 1116, 'simpson': 4015, 'swasthabharat': 4297, 'telemedicin': 4360, 'consult': 859, 'conduct': 838, 'bollywood': 471, 'rai': 3571, 'host': 1979, 'auction': 290, 'dp': 1217, 'cruis': 980, 'cdcdirector': 648, 'previou': 3418, 'sail': 3840, 'crew': 961, 'wq': 4875, 'joshtpm': 2304, 'privat': 3434, 'hurt': 2010, 'widespread': 4818, 'west': 4793, 'europ': 1405, 'intervent': 2193, 'impact': 2082, 'epidem': 1376, 'lcfch': 2463, 'fxct': 1674, 'int': 2176, 'outlet': 3124, 'wise': 4838, 'tunisian': 4526, 'cove': 933, 'tb': 4346, 'worst': 4868, 'otherwis': 3117, 'malari': 2599, 'ivermectin': 2238, 'sure': 4278, 'scienc': 3886, 'drop': 1238, 'reproduct': 3701, 'net': 2933, 'race': 3563, 'info': 2144, 'disproportion': 1174, 'recit': 3633, 'vers': 4680, 'afford': 71, 'andaman': 159, 'island': 2227, 'east': 1280, 'price': 3420, 'fh': 1566, 'cl': 735, 'ibuprofen': 2033, 'wors': 4865, 'row': 3799, 'crore': 973, 'xe': 4901, 'nd': 2913, 'jan': 2254, 'genom': 1703, 'rapidli': 3593, 'build': 548, 'pcr': 3220, 'valid': 4653, 'grave': 1780, 'panic': 3171, 'burial': 560, 'cp': 949, 'thought': 4404, 'statist': 4171, 'minhealthnz': 2755, 'registr': 3655, 'tracer': 4470, 'iranian': 2219, 'biolog': 440, 'warfar': 4755, 'canada': 590, 'cdnpoli': 654, 'iy': 2241, 'god': 1742, 'admiss': 52, 'bioweapon': 444, 'dispar': 1171, 'alaska': 109, 'nativ': 2901, 'suffer': 4250, 'burden': 556, 'resourc': 3717, 'tribal': 4501, 'mg': 2714, 'plandem': 3304, 'manipul': 2614, 'famili': 1511, 'yorkshir': 4954, 'unfortun': 4592, 'method': 2705, 'closer': 758, 'bonu': 474, 'rang': 3588, 'specimen': 4120, 'valu': 4657, 'julia': 2317, 'robert': 3776, 'marriag': 2633, 'crimin': 964, 'inquiri': 2159, 'alleg': 121, 'matern': 2644, 'standard': 4160, 'nh': 2955, 'wisconsin': 4837, 'toni': 4446, 'deem': 1064, 'dentist': 1094, 'phe': 3268, 'riski': 3764, 'invit': 2208, 'ya': 4926, 'yftvz': 4944, 'qs': 3538, 'yfe': 4943, 'seven': 3953, 'aiim': 95, 'institut': 2171, 'properti': 3470, 'prior': 3428, 'extent': 1478, 'role': 3782, 'play': 3313, 'htiph': 1996, 'journal': 2305, 'cell': 657, 'might': 2735, 'difficult': 1141, 'interpret': 2190, 'metric': 2709, 'papad': 3175, 'reconsid': 3637, 'airborn': 99, 'depress': 1099, 'motiv': 2836, 'respect': 3718, 'mr': 2846, 'ratan': 3599, 'tata': 4342, 'caveat': 639, 'fear': 1542, 'sort': 4100, 'sexual': 3956, 'tuberculosi': 4520, 'center': 659, 'illeg': 2066, 'patent': 3202, 'sweat': 4299, 'abil': 5, 'kindli': 2377, 'els': 1331, 'workout': 4857, 'term': 4369, 'pollut': 3346, 'color': 790, 'incom': 2106, 'gd': 1695, 'inclus': 2105, 'yobe': 4948, 'ncdc': 2907, 'molecular': 2810, 'network': 2935, 'ncdclabnetwork': 2910, 'takerespons': 4328, 'hack': 1833, 'phone': 3272, 'occur': 3039, 'rc': 3610, 'front': 1651, 'line': 2509, 'deserv': 1108, 'glad': 1728, 'folk': 1605, 'fed': 1546, 'cut': 1004, 'heavili': 1901, 'victim': 4690, 'hseliv': 1994, 'suffici': 4251, 'protocol': 3481, 'franc': 1634, 'immedi': 2074, 'vit': 4717, 'defici': 1072, 'chronic': 721, 'loss': 2545, 'tast': 4340, 'enjoy': 1359, 'brown': 534, 'govrondesanti': 1762, 'actual': 39, 'arizona': 235, 'colombia': 789, 'america': 139, 'trip': 4506, 'sb': 3872, 'mk': 2786, 'vacat': 4648, 'overwhelm': 3139, 'habit': 1832, 'tt': 4518, 'zon': 4990, 'hf': 1916, 'penc': 3231, 'michigan': 2721, 'concern': 834, 'appl': 207, 'wh': 4800, 'strand': 4207, 'mistak': 2779, 'ebola': 1284, 'bat': 369, 'answer': 174, 'john': 2295, 'lewi': 2489, 'slump': 4050, 'confus': 842, 'battl': 372, 'myth': 2879, 'vari': 4661, 'translat': 4485, 'zxferiy': 4998, 'indonesian': 2127, 'hadio': 1834, 'ali': 116, 'bid': 425, 'goodby': 1752, 'wife': 4820, 'edward': 1297, 'argar': 229, 'upgrad': 4611, 'es': 1390, 'apswxjcfgw': 221, 'schedul': 3882, 'sale': 3843, 'milk': 2746, 'newspap': 2950, 'groceri': 1795, 'store': 4202, 'commission': 804, 'bayelsa': 375, 'wou': 4870, 'tick': 4418, 'undark': 4580, 'pediatr': 3225, 'aggress': 85, 'trace': 4469, 'goi': 1745, 'diagnosi': 1132, 'ug': 4557, 'variat': 4663, 'territori': 4373, 'fascin': 1520, 'dc': 1036, 'delawar': 1078, 'meanwhil': 2669, 'limit': 2508, 'aspirin': 261, 'paracetamol': 3179, 'honey': 1966, 'kansa': 2339, 'ddindial': 1039, 'chairman': 673, 'republican': 3702, 'politifacttexa': 3343, 'dh': 1127, 'dana': 1019, 'zika': 4984, 'unpreced': 4604, 'abia': 4, 'newyork': 2951, 'hire': 1935, 'ten': 4366, 'rw': 3822, 'eha': 1307, 'zqrpneofet': 4994, 'appear': 205, 'pet': 3255, 'ns': 3007, 'gtd': 1805, 'su': 4232, 'sao': 3856, 'sinovac': 4022, 'biotech': 443, 'islam': 2226, 'camel': 584, 'iran': 2218, 'arab': 225, 'transmit': 4487, 'coordin': 881, 'identif': 2047, 'slide': 4043, 'cfr': 669, 'econom': 1288, 'stadium': 4151, 'convert': 878, 'graveyard': 1781, 'scene': 3881, 'ongo': 3080, 'remdesivir': 3681, 'coronawatch': 905, 'intub': 2201, 'facilit': 1491, 'seamless': 3900, 'hospitalis': 1978, 'eventu': 1412, 'ccc': 643, 'target': 4338, 'sometim': 4087, 'ho': 1950, 'room': 3789, 'opposit': 3095, 'budget': 545, 'relief': 3675, 'henc': 1910, 'carrier': 623, 'cach': 576, 'tw': 4532, 'figur': 1572, 'qv': 3556, 'wednesday': 4779, 'bad': 337, 'execut': 1444, 'tesco': 4376, 'buy': 566, 'normal': 2987, 'amid': 142, 'pwnmp': 3518, 'mouthwash': 2839, 'alabama': 107, 'town': 4465, 'kitchen': 2383, 'summar': 4258, 'qh': 3530, 'monitor': 2817, 'mp': 2843, 'prais': 3383, 'kerala': 2360, 'stage': 4153, 'fake': 1504, 'tough': 4459, 'enforc': 1353, 'mayor': 2655, 'liverpool': 2521, 'anderson': 160, 'difficulti': 1142, 'opc': 3089, 'tnib': 4435, 'ww': 4891, 'moder': 2800, 'seek': 3917, 'acut': 40, 'residu': 3711, 'ir': 2217, 'ice': 2035, 'amongst': 149, 'wg': 4799, 'shot': 3990, 'approach': 213, 'led': 2474, 'lesser': 2484, 'barack': 355, 'supermarket': 4265, 'australia': 296, 'rest': 3723, 'api': 197, 'bewar': 418, 'remov': 3686, 'xr': 4912, 'factcheck': 1493, 'fakenew': 1505, 'frustrat': 1654, 'begun': 395, 'attempt': 282, 'resolv': 3715, 'ac': 13, 'memorandum': 2689, 'financi': 1579, 'agreement': 88, 'tab': 4316, 'provis': 3487, 'critic': 970, 'headroom': 1886, 'enough': 1360, 'absorb': 11, 'voic': 4730, 'portion': 3357, 'fk': 1590, 'terribl': 4371, 'thelancet': 4393, 'midland': 2730, 'fda': 1540, 'fli': 1595, 'dma': 1187, 'hmoindia': 1947, 'moderna': 2801, 'disappoint': 1153, 'unlik': 4602, 'genexpert': 1701, 'kebbi': 2350, 'virolog': 4707, 'dettol': 1117, 'church': 723, 'vegetarian': 4672, 'littl': 2518, 'factori': 1496, 'prophylact': 3472, 'anyth': 191, 'offenc': 3048, 'canal': 592, 'newslett': 2948, 'datoscoronaviru': 1029, 'substanc': 4238, 'option': 3100, 'disord': 1170, 'resort': 3716, 'neil': 2929, 'alter': 132, 'word': 4852, 'sweet': 4302, 'sop': 4093, 'partial': 3190, 'reopen': 3690, 'class': 741, 'basi': 366, 'default': 1067, 'logic': 2534, 'rather': 3601, 'ground': 1797, 'bucket': 544, 'strain': 4206, 'ppe': 3374, 'caution': 637, 'chicago': 700, 'wale': 4748, 'md': 2664, 'tribut': 4502, 'bharat': 421, 'vice': 4689, 'covaxin': 932, 'bowl': 492, 'boil': 469, 'garlic': 1689, 'worri': 4863, 'arsenicum': 245, 'founder': 1623, 'plagu': 3301, 'bar': 354, 'shut': 3998, 'nejm': 2931, 'ua': 4546, 'fox': 1626, 'employe': 1344, 'pp': 3373, 'nancypelosi': 2890, 'fastest': 1524, 'western': 4795, 'classifi': 742, 'illustr': 2069, 'hi': 1922, 'friend': 1648, 'smile': 4057, 'friendship': 1649, 'serious': 3944, 'inna': 2157, 'wa': 4743, 'bath': 370, 'turmer': 4529, 'cheap': 694, 'homemad': 1960, 'rasam': 3595, 'surpris': 4285, 'creep': 958, 'box': 493, 'gain': 1679, 'jimmi': 2279, 'kimmel': 2374, 'trigger': 4504, 'trail': 4478, 'add': 44, 'cdcmmwr': 651, 'hzhcrprfn': 2028, 'matt': 2645, 'hancock': 1849, 'payment': 3216, 'ag': 79, 'kusa': 2409, 'iwcmznbk': 2240, 'qr': 3537, 'poster': 3365, 'display': 1172, 'retail': 3731, 'ei': 1308, 'debat': 1049, 'hq': 1989, 'prescrib': 3402, 'organis': 3109, 'pain': 3160, 'victoria': 4691, 'qanda': 3522, 'devast': 1118, 'societi': 4071, 'whole': 4812, 'afghanistan': 72, 'dubai': 1249, 'ek': 1313, 'tourist': 4461, 'bubbl': 542, 'elderli': 1319, 'insid': 2161, 'morgu': 2825, 'rescu': 3706, 'capita': 603, 'colorado': 791, 'rhode': 3746, 'jersey': 2268, 'dakota': 1014, 'hampshir': 1847, 'leadership': 2468, 'mha': 2716, 'guidelin': 1816, 'unlock': 4603, 'zone': 4991, 'strict': 4215, 'sector': 3913, 'innov': 2158, 'shortag': 3988, 'mysteri': 2878, 'cr': 951, 'peg': 3228, 'seri': 3942, 'scari': 3879, 'terrifi': 4372, 'drone': 1237, 'footag': 1609, 'log': 2533, 'profil': 3453, 'lvzejloxmh': 2568, 'raid': 3572, 'di': 1129, 'symptomat': 4309, 'neem': 2924, 'powder': 3371, 'allah': 120, 'bless': 456, 'epidemiologist': 1378, 'controversi': 872, 'rupe': 3814, 'cost': 914, 'jurisdict': 2321, 'wiufbkr': 4843, 'uh': 4559, 'surgic': 4283, 'outward': 3128, 'blue': 464, 'germ': 1709, 'happen': 1858, 'elli': 1330, 'fema': 1556, 'podcast': 3330, 'tech': 4354, 'lion': 2511, 'corps': 908, 'wake': 4747, 'memori': 2690, 'dismiss': 1168, 'ex': 1427, 'simpli': 4014, 'epic': 1374, 'ass': 262, 'corpor': 907, 'concentr': 833, 'chhattisgarh': 699, 'odisha': 3045, 'telangana': 4358, 'quarter': 3543, 'ak': 104, 'korea': 2399, 'analys': 154, 'upon': 4612, 'princess': 3426, 'navi': 2903, 'perfect': 3240, 'mainbhinewscheck': 2594, 'select': 3922, 'choic': 714, 'particl': 3192, 'escap': 1391, 'intend': 2180, 'ioqv': 2212, 'omdka': 3076, 'hhsgov': 1921, 'attack': 281, 'spot': 4136, 'slack': 4038, 'type': 4544, 'golf': 1747, 'cours': 927, 'shenzhen': 3976, 'gave': 1692, 'council': 920, 'understand': 4584, 'pregnanc': 3395, 'yc': 4932, 'kamala': 2336, 'harri': 1868, 'sister': 4024, 'lupu': 2566, 'iq': 2216, 'cepivaccin': 663, 'candid': 595, 'discuss': 1165, 'sokoto': 4076, 'jptglai': 2309, 'slight': 4044, 'drift': 1230, 'nj': 2972, 'ct': 985, 'lb': 2461, 'rx': 3823, 'physic': 3275, 'metr': 2708, 'sky': 4036, 'hotspot': 1983, 'nipah': 2970, 'ethiopia': 1399, 'tom': 4444, 'hank': 1855, 'burglar': 558, 'crash': 953, 'appeal': 204, 'lxwme': 2570, 'nubd': 3012, 'newsom': 2949, 'mail': 2592, 'vote': 4733, 'autopsi': 299, 'realis': 3620, 'bacterium': 336, 'amplifi': 152, 'electromagnet': 1322, 'radiat': 3568, 'inflamm': 2139, 'hypoxia': 2025, 'pie': 3284, 'categori': 633, 'yellow': 4938, 'suit': 4255, 'zdp': 4978, 'commod': 807, 'initi': 2153, 'toilet': 4439, 'dress': 1225, 'gown': 1765, 'wall': 4750, 'gone': 1749, 'heal': 1888, 'wound': 4872, 'assur': 273, 'floor': 1597, 'benefit': 406, 'labour': 2424, 'britain': 519, 'eas': 1276, 'donor': 1201, 'unless': 4601, 'wc': 4768, 'panel': 3169, 'newsinphoto': 2947, 'ew': 1426, 'enrol': 1361, 'pg': 3260, 'ce': 655, 'certifi': 667, 'thrombosi': 4411, 'moreov': 2824, 'bacteria': 335, 'influenc': 2142, 'narendra': 2892, 'talli': 4330, 'mark': 2631, 'om': 3075, 'lime': 2507, 'couch': 917, 'reopeningsaf': 3691, 'paraguayan': 3180, 'capit': 602, 'bash': 365, 'tabligi': 4320, 'jamat': 2251, 'chain': 671, 'vall': 4654, 'crispr': 967, 'csir': 983, 'ind': 2112, 'integr': 2178, 'indigen': 2124, 'technolog': 4356, 'sequenc': 3941, 'sarscov': 3860, 'advic': 61, 'promot': 3462, 'mile': 2743, 'rural': 3815, 'restaur': 3724, 'pub': 3494, 'oct': 3041, 'arkansa': 236, 'uptick': 4617, 'backfil': 331, 'swab': 4296, 'taken': 4327, 'depend': 1097, 'chikw': 703, 'revis': 3742, 'specifi': 4119, 'throw': 4413, 'guidanc': 1815, 'clinician': 752, 'yq': 4959, 'agenc': 82, 'japan': 2259, 'card': 609, 'bengal': 407, 'metro': 2710, 'rail': 3573, 'complianc': 826, 'ncdcinthenew': 2909, 'abuja': 12, 'contin': 867, 'strongest': 4221, 'cheat': 695, 'bacteri': 334, 'verifi': 4678, 'infodem': 2145, 'forget': 1616, 'natesilv': 2898, 'preced': 3391, 'absenc': 9, 'hm': 1945, 'adher': 48, 'hx': 2016, 'faster': 1523, 'everyth': 1418, 'strateg': 4208, 'roll': 3783, 'yf': 4942, 'del': 1077, 'path': 3203, 'rout': 3797, 'shelter': 3975, 'dexamethason': 1122, 'africacdc': 74, 'train': 4479, 'ipc': 2214, 'personnel': 3252, 'webmd': 4776, 'poll': 3345, 'nicola': 2960, 'sturgeon': 4230, 'cobra': 774, 'odd': 3044, 'virginia': 4706, 'cmsgov': 767, 'cm': 764, 'patna': 3205, 'bhagalpur': 420, 'snake': 4062, 'wildfir': 4823, 'ed': 1293, 'famou': 1513, 'irish': 2222, 'applaus': 209, 'handl': 1851, 'correspond': 912, 'pattern': 3208, 'ff': 1565, 'surpass': 4284, 'worldwid': 4861, 'hopkin': 1972, 'eight': 1309, 'wx': 4893, 'adopt': 55, 'epidemiolog': 1377, 'cult': 988, 'ran': 3586, 'quickli': 3550, 'switch': 4306, 'magic': 2587, 'accompani': 21, 'jointli': 2299, 'hug': 2001, 'mosqu': 2831, 'deceiv': 1054, 'sex': 3955, 'mid': 2725, 'nl': 2976, 'hungri': 2008, 'domest': 1195, 'orangutan': 3104, 'thane': 4388, 'proven': 3484, 'vih': 4698, 'gzj': 1831, 'dialysi': 1134, 'guatemalan': 1810, 'respir': 3719, 'cancel': 593, 'railway': 3574, 'suburban': 4240, 'unicef': 4594, 'greatest': 1784, 'ga': 1678, 'vp': 4734, 'oklahoma': 3067, 'risen': 3762, 'bx': 568, 'ld': 2464, 'necessari': 2921, 'horni': 1974, 'ferguson': 1559, 'carbon': 608, 'instead': 2170, 'zinc': 4985, 'hello': 1906, 'landmark': 2437, 'qy': 3559, 'wf': 4798, 'xy': 4924, 'adamawa': 42, 'bread': 503, 'slice': 4042, 'spin': 4127, 'respond': 3721, 'hydroxi': 2019, 'municip': 2862, 'earn': 1274, 'welcom': 4785, 'annual': 172, 'gdfjrxl': 1696, 'tear': 4353, 'yv': 4966, 'regular': 3659, 'je': 2263, 'avt': 309, 'hl': 1944, 'resumpt': 3729, 'elimin': 1326, 'anytim': 192, 'togeth': 4438, 'demonstr': 1089, 'exponenti': 1470, 'workplac': 4858, 'comparison': 816, 'ob': 3026, 'ah': 89, 'enhanc': 1358, 'zm': 4987, 'coronaoutbreak': 889, 'driver': 1234, 'imran': 2095, 'uncl': 4577, 'angela': 166, 'rayner': 3606, 'pmq': 3325, 'du': 1247, 'legal': 2476, 'regul': 3658, 'wit': 4840, 'rio': 3758, 'janeiro': 2256, 'special': 4116, 'brl': 522, 'inmat': 2156, 'suprem': 4275, 'court': 928, 'lt': 2557, 'pre': 3388, 'resurg': 3730, 'export': 1471, 'love': 2549, 'presidenti': 3406, 'herman': 1914, 'cain': 577, 'fundament': 1666, 'underserv': 4583, 'barrier': 361, 'fauci': 1532, 'importanttest': 2090, 'bz': 570, 'grant': 1775, 'visa': 4712, 'therapeut': 4395, 'therapi': 4396, 'arm': 238, 'cj': 733, 'roadmap': 3774, 'stimulu': 4195, 'packag': 3155, 'dri': 1228, 'troubl': 4508, 'mccft': 2660, 'reveal': 3738, 'wearer': 4773, 'freeli': 1640, 'absolut': 10, 'uruguay': 4624, 'margaret': 2626, 'leagu': 2469, 'basebal': 363, 'park': 3186, 'zssn': 4996, 'fx': 1673, 'oa': 3025, 'bjp': 449, 'ignor': 2056, 'teen': 4357, 'socialdistanc': 4070, 'effici': 1301, 'everybodi': 1415, 'cremat': 959, 'movi': 2842, 'william': 4827, 'hume': 2005, 'bear': 384, 'harmless': 1867, 'rnqvxpezex': 3772, 'ish': 2225, 'conclus': 836, 'northern': 2993, 'latitud': 2451, 'winter': 4835, 'anyway': 193, 'brexit': 511, 'uneven': 4591, 'gonna': 1750, 'statement': 4168, 'captur': 605, 'gretchen': 1791, 'whitmer': 4807, 'convent': 876, 'hg': 1918, 'slowthespread': 4048, 'zn': 4988, 'zytaud': 4999, 'exactli': 1429, 'pangolin': 3170, 'inhal': 2150, 'advisori': 63, 'appropri': 214, 'fair': 1502, 'bangalor': 351, 'hurrican': 2009, 'engag': 1354, 'stakehold': 4156, 'wellb': 4788, 'slightli': 4045, 'thursday': 4417, 'brief': 516, 'jm': 2286, 'speech': 4121, 'rnc': 3771, 'secur': 3914, 'pigeon': 3287, 'membran': 2687, 'cv': 1006, 'transfer': 4482, 'ghana': 1713, 'serv': 3948, 'richard': 3751, 'xb': 4896, 'gift': 1716, 'satir': 3863, 'mislead': 2772, 'fatigu': 1530, 'nu': 3011, 'hz': 2027, 'obes': 3029, 'ip': 2213, 'bbmp': 378, 'ia': 2029, 'dont': 1202, 'wast': 4762, 'whoever': 4810, 'fantast': 1515, 'kentucki': 2356, 'overload': 3134, 'relax': 3670, 'ci': 724, 'everyday': 1416, 'qkkt': 3531, 'oem': 3047, 'subject': 4234, 'olymp': 3073, 'postpon': 3366, 'mess': 2700, 'olympicgam': 3074, 'outlaw': 3123, 'worship': 4867, 'atlanta': 279, 'ws': 4884, 'salari': 3842, 'languag': 2438, 'stream': 4210, 'compat': 818, 'alarm': 108, 'clair': 737, 'extra': 1479, 'beef': 391, 'pepper': 3236, 'onion': 3081, 'rice': 3750, 'il': 2064, 'si': 4001, 'ax': 316, 'faint': 1501, 'mistreat': 2780, 'deni': 1090, 'presumpt': 3412, 'lump': 2564, 'messi': 2702, 'nyzlpjyfxm': 3023, 'recip': 3632, 'basic': 367, 'punch': 3502, 'noth': 2997, 'summer': 4260, 'imposs': 2092, 'calcul': 578, 'consumpt': 861, 'soup': 4102, 'men': 2691, 'shave': 3972, 'beard': 385, 'settl': 3952, 'compil': 820, 'window': 4831, 'corticosteroid': 913, 'interview': 2194, 'describ': 1106, 'procedur': 3443, 'latin': 2449, 'homeisol': 1958, 'satur': 3864, 'attent': 284, 'steroid': 4190, 'perman': 3246, 'european': 1406, 'ginsburg': 1719, 'mo': 2791, 'bu': 541, 'larger': 2442, 'fit': 1587, 'steam': 4183, 'balanc': 345, 'discard': 1157, 'decre': 1061, 'ingredi': 2149, 'germani': 1710, 'shivraj': 3982, 'singh': 4020, 'jair': 2249, 'bolsonaro': 472, 'bs': 538, 'exit': 1452, 'suicid': 4254, 'recogn': 3634, 'lose': 2544, 'wed': 4778, 'tangihanga': 4333, 'dalla': 1015, 'independ': 2114, 'weak': 4769, 'thrown': 4414, 'useless': 4630, 'lesson': 2485, 'congreg': 843, 'retest': 3732, 'compli': 825, 'melinda': 2685, 'husband': 2011, 'destroy': 1113, 'teacher': 4351, 'parent': 3184, 'inspect': 2164, 'covidindiaseva': 938, 'exam': 1431, 'engin': 1355, 'graduat': 1771, 'entranc': 1367, 'comedk': 798, 'gm': 1734, 'forev': 1615, 'elev': 1324, 'webinar': 4775, 'fourth': 1625, 'im': 2070, 'hj': 1942, 'uz': 4644, 'lu': 2560, 'guest': 1813, 'augment': 293, 'briton': 521, 'sage': 3838, 'oregon': 3107, 'premier': 3397, 'owner': 3143, 'diabet': 1130, 'imperi': 2084, 'pretti': 3414, 'goodwil': 1753, 'random': 3587, 'appoint': 211, 'av': 300, 'prompt': 3463, 'hh': 1920, 'gj': 1724, 'tn': 4434, 'infrastructur': 2147, 'nitiaayog': 2971, 'vic': 4688, 'branch': 498, 'taiwan': 4324, 'overcrowd': 3132, 'chancellor': 677, 'merkel': 2699, 'knew': 2389, 'moron': 2827, 'largest': 2443, 'portfolio': 3356, 'gender': 1698, 'male': 2602, 'femal': 1557, 'fv': 1672, 'satellit': 3862, 'therefor': 4397, 'unabl': 4572, 'foundat': 1622, 'headquart': 1885, 'reduct': 3645, 'crowd': 976, 'ralli': 3579, 'berlin': 411, 'confid': 840, 'knock': 2390, 'power': 3372, 'censu': 658, 'cvd': 1007, 'tester': 4378, 'rob': 3775, 'colloid': 788, 'silver': 4011, 'liquid': 2513, 'antibiot': 178, 'happi': 1859, 'surviv': 4289, 'truli': 4512, 'inspir': 2165, 'sea': 3898, 'puri': 3508, 'drive': 1232, 'bbc': 377, 'replac': 3695, 'txfz': 4541, 'arrang': 242, 'rotorua': 3793, 'meantim': 2668, 'jet': 2270, 'outpac': 3126, 'complex': 824, 'biden': 426, 'invok': 2209, 'defens': 1071, 'mari': 2627, 'pharma': 3264, 'financ': 1578, 'comorbid': 813, 'coronavac': 893, 'ncov': 2912, 'gam': 1682, 'vac': 4646, 'sputnik': 4142, 'unaffect': 4573, 'fd': 1539, 'joebiden': 2293, 'xxeraxvkhi': 4922, 'bare': 357, 'clarifi': 739, 'broader': 526, 'dynam': 1268, 'pz': 3519, 'sneez': 4064, 'frequent': 1645, 'jf': 2271, 'stroke': 4218, 'cindi': 725, 'mccain': 2659, 'endors': 1351, 'foxnew': 1627, 'widow': 4819, 'distinguish': 1180, 'affili': 70, 'deep': 1065, 'adversari': 60, 'ccp': 644, 'soil': 4075, 'wing': 4833, 'extremist': 1481, 'built': 549, 'cbc': 640, 'grand': 1773, 'millennium': 2747, 'spokesman': 4132, 'haji': 1840, 'tour': 4460, 'took': 4448, 'platform': 3312, 'ktyazabu': 2405, 'dog': 1194, 'hong': 1967, 'kong': 2398, 'ash': 252, 'binaxnow': 437, 'abbott': 3, 'min': 2750, 'chanel': 679, 'perfum': 3243, 'rv': 3820, 'terror': 4375, 'hazard': 1878, 'qualifi': 3540, 'ordinari': 3106, 'breach': 502, 'certif': 666, 'travolta': 4492, 'hollywood': 1956, 'saturdaynightfev': 3866, 'qq': 3536, 'avg': 303, 'reinforc': 3663, 'uneth': 4590, 'recognit': 3635, 'protestor': 3480, 'googl': 1754, 'pharmaceut': 3265, 'patanjali': 3200, 'coronil': 906, 'frontlin': 1652, 'guid': 1814, 'mn': 2790, 'grown': 1801, 'anthoni': 176, 'deploy': 1098, 'tower': 4464, 'signal': 4007, 'chip': 711, 'privaci': 3433, 'younger': 4956, 'mention': 2695, 'intermedi': 2187, 'book': 475, 'mostli': 2833, 'shame': 3964, 'sing': 4018, 'song': 4089, 'diagnost': 1133, 'faq': 1516, 'bribe': 513, 'cocain': 776, 'ticket': 4419, 'mine': 2753, 'refund': 3648, 'scam': 3875, 'raab': 3562, 'qg': 3529, 'attitud': 285, 'rr': 3801, 'uyn': 4643, 'ramesh': 3583, 'aliv': 118, 'checker': 697, 'purchas': 3507, 'car': 606, 'seat': 3904, 'doublingr': 1209, 'pneumonia': 3329, 'bird': 445, 'style': 4231, 'virgin': 4705, 'fuck': 1657, 'chin': 707, 'featur': 1543, 'genocid': 1702, 'mayb': 2654, 'film': 1576, 'spanish': 4111, 'umbrella': 4569, 'push': 3513, 'palm': 3164, 'spoon': 4134, 'plz': 3321, 'kulxwpdc': 2407, 'amish': 144, 'hart': 1869, 'idea': 2046, 'faucian': 1533, 'uganda': 4558, 'cri': 962, 'explan': 1467, 'plot': 3318, 'ginger': 1718, 'knowthefact': 2394, 'chinw': 710, 'ochu': 3040, 'ue': 4553, 'roof': 3787, 'coronaviruslockdown': 900, 'curfewinindia': 999, 'stayathomesavel': 4175, 'hantaviru': 1857, 'abpnew': 8, 'narendramodi': 2893, 'arvindkejriw': 251, 'short': 3987, 'usag': 4627, 'newjersey': 2943, 'prepared': 3401, 'exce': 1434, 'healthwork': 1895, 'valley': 4656, 'brownsvil': 535, 'ride': 3755, 'rashtriya': 3598, 'rss': 3805, 'file': 1573, 'lawsuit': 2457, 'honour': 1970, 'hon': 1965, 'ble': 454, 'war': 4753, 'griev': 1792, 'rank': 3589, 'ramp': 3584, 'kh': 2365, 'fart': 1519, 'mississippi': 2777, 'custom': 1003, 'igh': 2055, 'oha': 3061, 'netflix': 2934, 'documentari': 1193, 'tiger': 4421, 'king': 2378, 'popular': 3353, 'rumour': 3811, 'fz': 1677, 'wage': 4744, 'brace': 496, 'deputi': 1101, 'ihbwco': 2060, 'lbl': 2462, 'ox': 3145, 'fan': 1514, 'octob': 3042, 'venezuela': 4675, 'charter': 691, 'christchurch': 718, 'dozen': 1216, 'paus': 3212, 'gym': 1829, 'vaccineepi': 4650, 'shape': 3966, 'economist': 1290, 'later': 2446, 'applaud': 208, 'pari': 3185, 'biologist': 441, 'kidney': 2371, 'fish': 1585, 'tank': 4334, 'heleno': 1904, 'easili': 1279, 'alway': 135, 'beij': 400, 'ceo': 662, 'swine': 4304, 'helpless': 1908, 'mannequin': 2616, 'chicken': 701, 'industrialist': 2132, 'fibrosi': 1568, 'english': 1357, 'senegales': 3930, 'seneg': 3929, 'santa': 3855, 'avian': 304, 'mer': 2696, 'hyderabad': 2018, 'microsoft': 2724, 'priyanka': 3435, 'gandhi': 1684, 'buse': 562, 'saddam': 3832, 'hussein': 2012, 'threaten': 4408, 'command': 799, 'wine': 4832, 'undergo': 4581, 'section': 3912, 'entitl': 1366, 'usd': 4628, 'let': 2486, 'bit': 447, 'gr': 1768, 'kmedv': 2388, 'worth': 4869, 'bound': 490, 'maduro': 2584, 'excerpt': 1437, 'letter': 2487, 'nc': 2906, 'paul': 3209, 'steal': 4182, 'none': 2984, 'kabataan': 2332, 'sarah': 3859, 'elago': 1316, 'andrew': 162, 'fell': 1553, 'hv': 2014, 'shoot': 3984, 'apqxpndtq': 218, 'returne': 3735, 'ump': 4570, 'sofi': 4074, 'appal': 202, 'chair': 672, 'northeastern': 2992, 'reflect': 3647, 'index': 2115, 'histori': 1938, 'channelstv': 684, 'vs': 4736, 'le': 2465, 'hangov': 1854, 'bruno': 537, 'cova': 930, 'assam': 263, 'legisl': 2478, 'haripriya': 1865, 'eij': 1310, 'tjv': 4428, 'monger': 2816, 'anant': 158, 'med': 2675, 'qfvqwv': 3528, 'law': 2456, 'unga': 4593, 'strip': 4217, 'sponsor': 4133, 'obamacar': 3028, 'owtjvezywh': 3144, 'civil': 732, 'solv': 4083, 'mission': 2775, 'tk': 4429, 'theatr': 4392, 'heard': 1897, 'winner': 4834, 'inventor': 2204, 'specif': 4118, 'newest': 2942, 'convers': 877, 'easi': 1277, 'uc': 4548, 'lax': 2458, 'reservoir': 3709, 'nytim': 3022, 'cook': 879, 'skill': 4034, 'sz': 4314, 'gotten': 1758, 'speak': 4114, 'ud': 4549, 'freedom': 1639, 'agarw': 80, 'za': 4970, 'wm': 4846, 'harm': 1866, 'accident': 20, 'genet': 1700, 'betacoronavirus': 414, 'irrefut': 2223, 'deriv': 1103, 'angel': 165, 'templ': 4364, 'constantli': 855, 'optimis': 3098, 'up': 4608, 'nebraska': 2919, 'disappear': 1152, 'aj': 103, 'convalesc': 873, 'plasma': 3308, 'assert': 266, 'antivir': 185, 'clariti': 740, 'otc': 3115, 'brian': 512, 'rose': 3791, 'falsehood': 1509, 'comment': 801, 'woodward': 4851, 'tape': 4336, 'gygogw': 1827, 'communist': 812, 'hysteria': 2026, 'scotland': 3892, 'indoor': 2128, 'jw': 2327, 'uttarpradesh': 4637, 'educ': 1296, 'ray': 3605, 'pennsylvania': 3233, 'futur': 1671, 'pt': 3490, 'canadian': 591, 'fulli': 1661, 'embrac': 1335, 'super': 4264, 'code': 777, 'ni': 2956, 'shop': 3985, 'hs': 1993, 'xvb': 4920, 'advocaci': 65, 'disney': 1169, 'inevit': 2135, 'obviou': 3033, 'saudi': 3868, 'arabia': 226, 'idh': 2049, 'comput': 831, 'icmrnirrh': 2041, 'ez': 1484, 'brother': 532, 'father': 1528, 'grandpar': 1774, 'quick': 3549, 'yogrishiramdev': 4950, 'score': 3891, 'na': 2880, 'nick': 2959, 'newcastl': 2940, 'ratio': 3602, 'termin': 4370, 'seed': 3916, 'length': 2482, 'percent': 3238, 'hguvcatu': 1919, 'erron': 1388, 'cite': 729, 'ibadan': 2031, 'hmh': 1946, 'dreoehanir': 1224, 'rodrigo': 3781, 'dutert': 1260, 'particular': 3193, 'xd': 4899, 'spoke': 4130, 'bounc': 489, 'lucknow': 2562, 'gorakhpur': 1756, 'ig': 2054, 'jy': 2329, 'ts': 4517, 'odocrgoar': 3046, 'degre': 1075, 'incent': 2100, 'toward': 4463, 'chat': 693, 'distant': 1179, 'physicaldist': 3276, 'outcom': 3121, 'evil': 1422, 'logo': 2536, 'approxim': 217, 'finish': 1582, 'art': 246, 'indonesia': 2126, 'crown': 977, 'hypochlorit': 2024, 'phenol': 3269, 'fresh': 1646, 'debt': 1050, 'tax': 4344, 'merit': 2698, 'girl': 1720, 'pearl': 3224, 'ear': 1271, 'kalonji': 2335, 'noon': 2986, 'exagger': 1430, 'accid': 19, 'pile': 3288, 'react': 3614, 'stress': 4214, 'gkzv': 1726, 'vspcv': 4737, 'iu': 2236, 'ls': 2555, 'entri': 1368, 'ingest': 2148, 'stall': 4157, 'pharmaci': 3266, 'sanitis': 3854, 'kenyan': 2358, 'elector': 1321, 'commiss': 803, 'hint': 1934, 'yg': 4945, 'meatpack': 2673, 'crucial': 978, 'harvardgh': 1871, 'adjust': 49, 'ppl': 3375, 'jh': 2273, 'theater': 4390, 'succumb': 4244, 'cum': 990, 'selflessli': 3924, 'serolog': 3946, 'survey': 4288, 'delhiit': 1082, 'approx': 216, 'kitchencon': 2384, 'oor': 3087, 'ep': 1373, 'qc': 3524, 'design': 1109, 'cq': 950, 'ow': 3141, 'gobar': 1740, 'lmr': 2525, 'xro': 4915, 'wi': 4814, 'westbeng': 4794, 'helplin': 1909, 'whitehous': 4806, 'justic': 2322, 'prioritis': 3430, 'establish': 1394, 'madagascan': 2578, 'andri': 163, 'rajoelina': 3578, 'poison': 3333, 'proud': 3482, 'teach': 4350, 'ethiopian': 1400, 'ababa': 1, 'zg': 4982, 'jharkhand': 2274, 'colleagu': 785, 'bb': 376, 'kb': 2346, 'notifi': 3000, 'opt': 3096, 'ytwok': 4963, 'subsid': 4237, 'pd': 3221, 'bd': 381, 'mi': 2717, 'ri': 3747, 'wy': 4894, 'tulsa': 4524, 'indiafightscoronaviru': 2118, 'saint': 3841, 'luke': 2563, 'zdlimwkk': 4977, 'rent': 3689, 'eb': 1283, 'df': 1124, 'discoveri': 1163, 'midday': 2726, 'hear': 1896, 'gyi': 1828, 'lsmoh': 2556, 'oneself': 3079, 'boss': 485, 'mustapha': 2868, 'ptfcovid': 3492, 'task': 4339, 'vermont': 4679, 'minimum': 2758, 'xk': 4907, 'qx': 3557, 'retweet': 3736, 'misconstru': 2768, 'aqz': 223, 'aggreg': 84, 'beat': 386, 'covidactnow': 937, 'healthoverexam': 1894, 'mq': 2845, 'david': 1031, 'ick': 2036, 'uptak': 4616, 'promptli': 3464, 'paramilitari': 3182, 'rajkot': 3577, 'baroda': 359, 'halt': 1845, 'laid': 2429, 'repeat': 3693, 'underli': 4582, 'proof': 3466, 'ie': 2052, 'memo': 2688, 'load': 2527, 'meng': 2692, 'yan': 4927, 'qz': 3560, 'ruin': 3808, 'jmut': 2287, 'igq': 2058, 'yd': 4933, 'eye': 1483, 'heart': 1898, 'lifetim': 2503, 'cardiolog': 612, 'stabl': 4149, 'lo': 2526, 'excit': 1439, 'mom': 2811, 'win': 4829, 'wrongli': 4882, 'stanford': 4162, 'rare': 3594, 'immunosuppress': 2080, 'midst': 2733, 'medtwitt': 2682, 'zd': 4976, 'scan': 3876, 'ultra': 4566, 'killer': 2373, 'alien': 117, 'meaningless': 2666, 'realiz': 3623, 'gldutdl': 1730, 'fy': 1676, 'coverag': 935, 'cruelti': 979, 'prakashjavdekar': 3384, 'politifact': 3342, 'princip': 3427, 'aspect': 260, 'lay': 2459, 'ago': 86, 'qcd': 3525, 'casualti': 629, 'ty': 4542, 'cz': 1010, 'steril': 4189, 'intellig': 2179, 'lamp': 2434, 'dear': 1047, 'jobless': 2291, 'unemploy': 4589, 'freez': 1642, 'evict': 1420, 'homeless': 1959, 'shake': 3962, 'immigr': 2075, 'ford': 1612, 'ji': 2276, 'maiduguri': 2591, 'harcourt': 1860, 'canin': 597, 'dehradun': 1076, 'latter': 2452, 'typic': 4545, 'greek': 1787, 'structur': 4222, 'fatherbob': 1529, 'mast': 2641, 'billionair': 435, 'uncertainti': 4575, 'metformin': 2704, 'mcp': 2663, 'udsp': 4551, 'instal': 2167, 'mum': 2860, 'xu': 4917, 'plane': 3305, 'dublin': 1251, 'brought': 533, 'conceal': 832, 'fuel': 1658, 'sw': 4295, 'ou': 3118, 'conclud': 835, 'subsequ': 4236, 'rival': 3765, 'yt': 4962, 'derbi': 1102, 'cc': 642, 'marijuana': 2630, 'cdcemerg': 649, 'peer': 3227, 'maryland': 2634, 'fix': 1589, 'sanchez': 3850, 'readili': 3617, 'hall': 1844, 'rydg': 3826, 'xugjzq': 4918, 'xxp': 4923, 'trajectori': 4480, 'idioci': 2050, 'yapqkvdncj': 4928, 'milan': 2740, 'indiafightscovid': 2119, 'factchecknet': 1494, 'dd': 1038, 'devi': 1120, 'sridhar': 4145, 'introduc': 2198, 'vldzfrneaj': 4725, 'seal': 3899, 'buck': 543, 'fifth': 1570, 'sooner': 4092, 'hell': 1905, 'vinegar': 4700, 'southeast': 4105, 'coast': 773, 'northwest': 2994, 'presum': 3411, 'commerci': 802, 'sens': 3932, 'precipit': 3392, 'fo': 1602, 'ecuador': 1291, 'ecuadorian': 1292, 'inflammatori': 2140, 'british': 520, 'cleaner': 745, 'coin': 779, 'fxp': 1675, 'lvl': 2567, 'ly': 2571, 'fabiflu': 1485, 'kejriw': 2353, 'hamper': 1846, 'tatahealth': 4343, 'com': 794, 'stayhomestaysaf': 4177, 'journalist': 2306, 'straight': 4205, 'programm': 3456, 'tune': 4525, 'ntanewsnow': 3009, 'regret': 3657, 'rins': 3757, 'jihadi': 2278, 'wetherspoon': 4797, 'piss': 3294, 'shed': 3973, 'throughout': 4412, 'fashion': 1521, 'glove': 1733, 'sic': 4002, 'photograph': 3274, 'slaughter': 4039, 'coronavirus': 895, 'cattl': 634, 'piec': 3285, 'coffe': 778, 'mental': 2693, 'minoritymentalhealth': 2763, 'mentalhealthawar': 2694, 'discourag': 1161, 'mor': 2823, 'dwarf': 1264, 'vendor': 4674, 'mu': 2854, 'iz': 2242, 'bueno': 546, 'pill': 3289, 'correl': 911, 'januari': 2258, 'maximum': 2650, 'chao': 686, 'deepli': 1066, 'appreci': 212, 'dedic': 1063, 'maxim': 2649, 'hu': 1999, 'niosh': 2969, 'idaho': 2045, 'sound': 4101, 'carabinieri': 607, 'experiment': 1463, 'stuck': 4224, 'evolv': 1425, 'orang': 3103, 'peel': 3226, 'schizophrenia': 3884, 'maulana': 2648, 'saad': 3829, 'tablighi': 4319, 'jamaat': 2250, 'cf': 668, 'pole': 3334, 'competit': 819, 'athlet': 277, 'music': 2865, 'successor': 4243, 'favipiravir': 1534, 'pq': 3377, 'hubei': 2000, 'ul': 4564, 'dayslockdown': 1035, 'nm': 2977, 'conven': 874, 'ko': 2395, 'pakistani': 3163, 'riaz': 3748, 'unchang': 4576, 'downplay': 1214, 'reportedli': 3698, 'suspend': 4291, 'fungal': 1668, 'auspol': 295, 'wuhancoronaviru': 4888, 'cdctravel': 652, 'destin': 1111, 'showcas': 3994, 'cardiac': 611, 'mri': 2847, 'myocard': 2877, 'en': 1347, 'substanti': 4239, 'smoother': 4061, 'disregard': 1175, 'credit': 957, 'depsechargan': 1100, 'pro': 3438, 'write': 4878, 'album': 110, 'qanon': 3523, 'mm': 2789, 'crazi': 954, 'chose': 716, 'reserv': 3708, 'reposit': 3699, 'mv': 2872, 'bump': 555, 'equival': 1384, 'avigan': 306, 'newborn': 2939, 'twin': 4536, 'elsewher': 1332, 'transcript': 4481, 'qxh': 3558, 'kroger': 2403, 'costco': 915, 'fennel': 1558, 'swim': 4303, 'gymnasium': 1830, 'shrink': 3996, 'damag': 1017, 'arvind': 250, 'licens': 2498, 'azim': 322, 'premji': 3398, 'chariti': 688, 'eastern': 1281, 'correctli': 910, 'panti': 3174, 'undetect': 4587, 'villag': 4699, 'missil': 2774, 'vk': 4722, 'exclus': 1442, 'anticip': 180, 'quinin': 3552, 'behaviour': 398, 'drastic': 1222, 'ps': 3488, 'nsitharaman': 3008, 'fu': 1656, 'americold': 141, 'drsanjaygupta': 1242, 'angieholan': 167, 'alexmahadevan': 114, 'latex': 2448, 'purpos': 3512, 'cinema': 726, 'yb': 4930, 'gregmilamski': 1789, 'modiji': 2804, 'highli': 1928, 'pgxjssssu': 3262, 'elisa': 1327, 'granato': 1772, 'administ': 50, 'advoc': 64, 'dw': 1263, 'renown': 3688, 'sorrow': 4099, 'covidsaf': 941, 'smartphon': 4055, 'ck': 734, 'sen': 3926, 'banish': 352, 'pagzfxjnbi': 3158, 'angri': 168, 'mob': 2793, 'storm': 4204, 'nail': 2884, 'morrison': 2828, 'sputum': 4143, 'hail': 1836, 'mpuji': 2844, 'necessarili': 2922, 'ultim': 4565, 'sharp': 3970, 'hy': 2017, 'sonnant': 4090, 'falsifi': 1510, 'theori': 4394, 'jean': 2264, 'yvex': 4967, 'ien': 2053, 'board': 467, 'shall': 3963, 'homequarantin': 1963, 'mileston': 2744, 'hang': 1853, 'constrain': 857, 'upward': 4619, 'institutionalquarantin': 2172, 'kzncyfx': 2417, 'brooklyn': 531, 'yorker': 4953, 'antimalari': 184, 'azithromycin': 323, 'fruit': 1653, 'pant': 3173, 'cx': 1008, 'covidiot': 939, 'guess': 1812, 'pc': 3219, 'matthancock': 2647, 'broiler': 528, 'gop': 1755, 'remark': 3680, 'moistli': 2807, 'sl': 4037, 'circumst': 728, 'vi': 4685, 'argentin': 230, 'chamber': 675, 'rush': 3816, 'defenc': 1069, 'vt': 4738, 'hamster': 1848, 'listen': 2516, 'invis': 2207, 'hardship': 1863, 'icymi': 2043, 'uss': 4632, 'succeed': 4241, 'mcdonald': 2662, 'bow': 491, 'faith': 1503, 'religion': 3678, 'globe': 1732, 'insert': 2160, 'electron': 1323, 'frankli': 1636, 'perhap': 3244, 'faheemyounu': 1498, 'antigen': 183, 'colfax': 781, 'dawson': 1032, 'plant': 3307, 'truck': 4509, 'tanzania': 4335, 'ml': 2787, 'joint': 2298, 'rq': 3800, 'journey': 2307, 'fl': 1591, 'cuomo': 993, 'ok': 3066, 'cat': 630, 'tc': 4347, 'nake': 2886, 'vandal': 4659, 'meant': 2667, 'bn': 466, 'mall': 2603, 'cont': 862, 'hors': 1975, 'thoroughbr': 4402, 'sugarcreek': 4252, 'sat': 3861, 'gentleman': 1704, 'son': 4088, 'assign': 268, 'meat': 2672, 'stigma': 4192, 'recess': 3631, 'amitabh': 146, 'bachchan': 329, 'tradit': 4475, 'manual': 2619, 'supervisor': 4267, 'ddiqujsvii': 1040, 'prolong': 3460, 'hypercapnia': 2023, 'gy': 1826, 'sacrific': 3831, 'muscl': 2863, 'ybo': 4931, 'ih': 2059, 'poem': 3331, 'kent': 2355, 'lorri': 2543, 'deadlin': 1045, 'fade': 1497, 'ultraviolet': 4567, 'whitti': 4808, 'gkyzx': 1725, 'leicest': 2480, 'vte': 4739, 'upcom': 4609, 'calendar': 579, 'gudbpi': 1811, 'discontinu': 1160, 'cupboard': 995, 'decemb': 1055, 'jkwwztxyh': 2285, 'geograph': 1705, 'vj': 4721, 'fatalityr': 1527, 'zc': 4975, 'nvb': 3018, 'em': 1333, 'mara': 2623, 'drsamirbhatt': 1241, 'melbourn': 2684, 'nonessenti': 2985, 'ol': 3068, 'inbox': 2098, 'yuz': 4965, 'np': 3005, 'zh': 4983, 'aqa': 222, 'tag': 4322, 'descript': 1107, 'cdcgov': 650, 'jennif': 2267, 'relationship': 3669, 'prkbpcxfq': 3437, 'mind': 2752, 'sepsi': 3938, 'sheet': 3974, 'oi': 3063, 'sam': 3847, 'misbehav': 2767, 'aerosol': 66, 'systemat': 4313, 'polio': 3338, 'ht': 1995, 'bottl': 486, 'writer': 4879, 'dub': 1248, 'stefano': 4186, 'montanari': 2819, 'expel': 1459, 'supposedli': 4273, 'benchmark': 405, 'blm': 457, 'advanc': 58, 'coron': 886, 'jb': 2262, 'mib': 2718, 'visual': 4716, 'impress': 2093, 'broad': 523, 'framework': 1633, 'cmomaharashtra': 766, 'primarili': 3423, 'wilson': 4828, 'ng': 2954, 'tkeq': 4430, 'fi': 1567, 'proactiv': 3439, 'dire': 1147, 'own': 3142, 'stake': 4155, 'dv': 1262, 'prohibit': 3458, 'thali': 4387, 'shout': 3991, 'maga': 2585, 'exclud': 1441, 'beverag': 417, 'kiwi': 2386, 'vigil': 4697, 'fat': 1525, 'manat': 2608, 'hauora': 1874, 'gialss': 1715, 'cmoguj': 765, 'dgpgujarat': 1126, 'supplement': 4268, 'atlant': 278, 'thumb': 4416, 'caogenfur': 600, 'mixtur': 2785, 'hb': 1879, 'ryanair': 3825, 'poultri': 3369, 'fill': 1575, 'ru': 3807, 'neighbor': 2927, 'noia': 2982, 'stupid': 4229, 'lysol': 2572, 'gradual': 1770, 'complaint': 822, 'macedonia': 2574, 'euro': 1404, 'greec': 1786, 'yw': 4968, 'punjab': 3505, 'kumar': 2408, 'vehicl': 4673, 'nigel': 2961, 'farag': 1518, 'climat': 749, 'denial': 1091, 'scheme': 3883, 'politifactwisc': 3344, 'asthma': 274, 'quadrupl': 3539, 'uniqu': 4597, 'bloomberg': 461, 'allergi': 123, 'kogi': 2396, 'tmccormick': 4433, 'pplscouncil': 3376, 'kissan': 2381, 'karaoehl': 2340, 'opencollect': 3091, 'piamancini': 3278, 'ntnsndr': 3010, 'ea': 1270, 'met': 2703, 'courag': 926, 'jaipur': 2248, 'tobacco': 4436, 'kf': 2363, 'hoard': 1951, 'sophist': 4094, 'js': 2311, 'shoutout': 3992, 'illiter': 2068, 'liter': 2517, 'behav': 396, 'dt': 1245, 'snap': 4063, 'potu': 3368, 'queenstown': 3545, 'outlin': 3125, 'dump': 1255, 'rash': 3596, 'criticis': 971, 'unusu': 4606, 'stone': 4198, 'pelt': 3230, 'obey': 3030, 'bergamo': 410, 'viewer': 4696, 'cast': 627, 'rbi': 3609, 'draw': 1223, 'stella': 4187, 'digit': 1143, 'ne': 2915, 'kc': 2347, 'ukrainian': 4563, 'pig': 3286, 'twenti': 4534, 'connecticut': 846, 'wo': 4847, 'carl': 617, 'sh': 3959, 'warrior': 4759, 'asia': 256, 'moonshot': 2821, 'repo': 3696, 'pibmumbai': 3281, 'presssec': 3409, 'minim': 2756, 'lucki': 2561, 'theatlant': 4391, 'harder': 1862, 'ufxpxd': 4556, 'judi': 2314, 'yayitsrob': 4929, 'machin': 2576, 'sensor': 3934, 'ev': 1407, 'fr': 1631, 'booster': 479, 'baba': 327, 'ramdev': 3582, 'shit': 3981, 'tx': 4540, 'enemi': 1352, 'suppress': 4274, 'hfmsi': 1917, 'realiti': 3622, 'interim': 2186, 'tlilhg': 4432, 'og': 3058, 'xg': 4903, 'oh': 3060, 'kamalaharri': 2337, 'cultur': 989, 'warp': 4758, 'speed': 4122, 'presidentialelect': 3407, 'sixth': 4029, 'humanitarian': 2004, 'crise': 965, 'jacinda': 2244, 'ardern': 227, 'hindu': 1933, 'uf': 4554, 'heath': 1900, 'sf': 3957, 'russianvaccin': 3819, 'zl': 4986, 'tighter': 4422, 'xdfm': 4900, 'columbia': 793, 'ra': 3561, 'oximet': 3147, 'qp': 3535, 'ao': 194, 'swiss': 4305, 'conveni': 875, 'rick': 3752, 'commodor': 808, 'psycholog': 3489, 'senior': 3931, 'rao': 3590, 'fc': 1537, 'costli': 916, 'rip': 3760, 'chase': 692, 'mandatorili': 2611, 'provinc': 3486, 'amaz': 136, 'mf': 2713, 'kowheori': 2401, 'wu': 4886, 'hate': 1873, 'workforc': 4856, 'tripl': 4507, 'ontario': 3085, 'onpoli': 3083, 'pheoc': 3270, 'biomed': 442, 'nutrit': 3016, 'multi': 2857, 'bcg': 380, 'gs': 1803, 'ought': 3119, 'fought': 1620, 'tori': 4453, 'shield': 3977, 'lp': 2553, 'placebo': 3300, 'delet': 1080, 'grim': 1793, 'damascu': 1018, 'sysilcsith': 4311, 'qe': 3526, 'trade': 4474, 'restor': 3725, 'outweigh': 3129, 'invest': 2205, 'pn': 3327, 'dpfd': 1218, 'emphas': 1340, 'fraud': 1637, 'deficit': 1073, 'borrow': 484, 'eh': 1306, 'preexist': 3394, 'bloomfield': 462, 'soap': 4066, 'covidwarriortip': 945, 'stopthespread': 4201, 'midorik': 2732, 'wt': 4885, 'lx': 2569, 'wore': 4853, 'accredit': 25, 'nearest': 2917, 'altern': 133, 'african': 75, 'reject': 3666, 'durham': 1258, 'jone': 2302, 'serum': 3947, 'jogger': 2294, 'experienc': 1462, 'keir': 2352, 'starmer': 4164, 'dido': 1135, 'fist': 1586, 'advantag': 59, 'veget': 4671, 'crack': 952, 'rumor': 3810, 'fq': 1629, 'godi': 1743, 'bv': 567, 'acetylcystein': 28, 'liquefi': 2512, 'mucu': 2856, 'liver': 2520, 'crow': 975, 'instrument': 2174, 'kv': 2410, 'nude': 3013, 'sk': 4033, 'brit': 518, 'panicbuy': 3172, 'eoc': 1372, 'core': 884, 'simul': 4016, 'yr': 4960, 'gl': 1727, 'everywher': 1419, 'sero': 3945, 'cux': 1005, 'anak': 153, 'stricter': 4216, 'mayan': 2653, 'priest': 3421, 'seanhann': 3901, 'testifi': 4379, 'injuri': 2155, 'drmamora': 1236, 'bottom': 487, 'sun': 4261, 'destini': 1112, 'ee': 1298, 'cool': 880, 'southwest': 4107, 'papua': 3178, 'guinea': 1817, 'camper': 589, 'sleep': 4041, 'camp': 587, 'variabl': 4662, 'relev': 3672, 'shadow': 3960, 'uncomfort': 4579, 'ib': 2030, 'milder': 2742, 'adolesc': 54, 'emphasis': 1342, 'wwdyvm': 4892, 'nnl': 2979, 'minnesota': 2761, 'victorian': 4692, 'pw': 3517, 'clorox': 756, 'gold': 1746, 'mock': 2797, 'fegmdobt': 1552, 'portugues': 3360, 'brave': 499, 'lord': 2542, 'tucker': 4521, 'carlson': 619, 'filipino': 1574, 'portal': 3355, 'headach': 1884, 'pulmonari': 3499, 'increasingli': 2110, 'reinstat': 3664, 'buri': 559, 'gu': 1806, 'shock': 3983, 'dar': 1022, 'cowboy': 947, 'njn': 2973, 'dallascowboy': 1016, 'feb': 1544, 'search': 3902, 'clinton': 753, 'pack': 3154, 'jacksonvil': 2245, 'demograph': 1088, 'microchip': 2723, 'implant': 2086, 'ba': 326, 'expir': 1465, 'festiv': 1561, 'traffic': 4476, 'hmx': 1948, 'sa': 3828, 'accus': 27, 'gdp': 1697, 'supervis': 4266, 'newscheck': 2946, 'sit': 4025, 'wander': 4751, 'instant': 2169, 'argentinian': 232, 'portray': 3359, 'stood': 4199, 'sight': 4005, 'duck': 1252, 'dive': 1184, 'roosevelt': 3790, 'xz': 4925, 'ltc': 2558, 'tablet': 4318, 'rmd': 3768, 'tire': 4427, 'expans': 1457, 'barda': 356, 'caba': 572, 'argentina': 231, 'bullshit': 554, 'server': 3949, 'missionari': 2776, 'shutdown': 3999, 'jk': 2283, 'sec': 3906, 'shapp': 3967, 'reliabl': 3674, 'ghislain': 1714, 'maxwel': 2651, 'instanc': 2168, 'sniff': 4065, 'josephbiden': 2303, 'strength': 4212, 'dcgi': 1037, 'ltd': 2559, 'ii': 2061, 'candl': 596, 'grime': 1794, 'analyst': 156, 'darker': 1023, 'worn': 4862, 'pk': 3297, 'mbuhari': 2658, 'interconnected': 2184, 'denmark': 1092, 'ballist': 347, 'submarin': 4235, 'tennesse': 4368, 'sclerosi': 3890, 'msvirtual': 2851, 'dy': 1266, 'fun': 1663, 'graphic': 1777, 'zee': 4980, 'sulfur': 4256, 'emiss': 1338, 'nasa': 2894, 'pzh': 3520, 'taxi': 4345, 'spare': 4112, 'hero': 1915, 'mitch': 2782, 'mcconnel': 2661, 'madagascar': 2579, 'toxin': 4467, 'revok': 3743, 'toronto': 4454, 'crematorium': 960, 'stack': 4150, 'rh': 3745, 'idiot': 2051, 'maker': 2598, 'kydz': 2414, 'twwe': 4539, 'widen': 4816, 'rf': 3744, 'mosquito': 2832, 'bean': 383, 'afterward': 78, 'guarante': 1808, 'wherea': 4802, 'librari': 2497, 'evolut': 1424, 'fewest': 1564, 'uy': 4642, 'expressli': 1475, 'suppos': 4272, 'adapt': 43, 'apr': 219, 'notif': 2999, 'boomlivein': 476, 'xrey': 4913, 'obtain': 3032, 'eucalyptu': 1403, 'pull': 3498, 'dispos': 1173, 'soar': 4067, 'will': 4825, 'prenat': 3399, 'amitabhbachchan': 147, 'palmera': 3165, 'equal': 1380, 'rahul': 3570, 'xc': 4898, 'rid': 3754, 'infer': 2138, 'overtaken': 3138, 'resist': 3713, 'undertaken': 4585, 'hair': 1837, 'tkm': 4431, 'prophylaxi': 3473, 'dinner': 1144, 'rdk': 3612, 'laud': 2453, 'reli': 3673, 'gaiter': 1680, 'paw': 3213, 'hide': 1924, 'plain': 3302, 'midwest': 2734, 'jeffrey': 2266, 'epstein': 1379, 'yemen': 4939, 'priti': 3432, 'patel': 3201, 'exosom': 1453, 'academ': 14, 'mb': 2656, 'emot': 1339, 'zb': 4973, 'van': 4658, 'msm': 2850, 'justifi': 2323, 'azvrg': 324, 'bt': 540, 'headteach': 1887, 'unproven': 4605, 'ju': 2312, 'rna': 3770, 'rapidantigentest': 3592, 'elbow': 1317, 'preval': 3415, 'el': 1315, 'editori': 1294, 'plu': 3319, 'trauma': 4490, 'salut': 3846, 'coronawarrior': 904, 'herb': 1911, 'juic': 2315, 'guam': 1807, 'puerto': 3497, 'rico': 3753, 'changeov': 681, 'jammu': 2253, 'qo': 3534, 'spreadsheet': 4140, 'horizon': 1973, 'distract': 1181, 'hype': 2022, 'standbi': 4161, 'bug': 547, 'belt': 404, 'chuck': 722, 'norri': 2989, 'vn': 4728, 'hivaid': 1941, 'std': 4179, 'tube': 4519, 'regim': 3652, 'requisit': 3705, 'rru': 3803, 'liquor': 2514, 'ivankatrump': 2237, 'sanitari': 3853, 'cash': 626, 'interst': 2192, 'iw': 2239, 'appar': 203, 'iphon': 2215, 'android': 164, 'sweep': 4301, 'michaelmina': 2720, 'temperatur': 4363, 'gunna': 1822, 'sv': 4294, 'treasuri': 4494, 'notmypresid': 3001, 'offend': 3049, 'overtak': 3137, 'sjf': 4032, 'zbg': 4974, 'uma': 4568, 'paulin': 3210, 'hanson': 1856, 'maddow': 2580, 'san': 3849, 'tragic': 4477, 'ej': 1312, 'layer': 2460, 'yield': 4946, 'overnight': 3135, 'dphss': 1219, 'lh': 2493, 'peruvian': 3254, 'packet': 3156, 'veterinarian': 4683, 'bizarr': 448, 'wildli': 4824, 'counsel': 921, 'apolog': 199, 'hillari': 1931, 'arisen': 234, 'xn': 4910, 'occupi': 3038, 'constitut': 856, 'pfizer': 3259, 'wr': 4876, 'spite': 4129, 'undp': 4588, 'xl': 4908, 'abandon': 2, 'kiss': 2380, 'yl': 4947, 'ka': 2331, 'csogok': 984, 'goat': 1739, 'wef': 4784, 'adsrezpsfh': 56, 'wipe': 4836, 'exot': 1454, 'proceed': 3444, 'biharhealthdept': 432, 'barranquilla': 360, 'nice': 2958, 'arlen': 237, 'nairobi': 2885, 'politicalcorrect': 3340, 'gregorio': 1790, 'transform': 4483, 'mariana': 2629, 'hindi': 1932, 'persist': 3250, 'jx': 2328, 'avjf': 307, 'ik': 2063, 'malaysia': 2601, 'fern': 1560, 'ndez': 2914, 'technic': 4355, 'pl': 3298, 'dutch': 1259, 'consent': 848, 'ramu': 3585, 'manafort': 2606, 'qn': 3533, 'hidden': 1923, 'mamataoffici': 2604, 'missouri': 2778, 'indiana': 2121, 'careless': 616, 'height': 1902, 'statewid': 4169, 'mx': 2874, 'turkey': 4527, 'cnbc': 769, 'payer': 3215, 'frm': 1650, 'tg': 4383, 'dist': 1177, 'ration': 3603, 'ahmedabad': 92, 'vadodara': 4652, 'wv': 4890, 'rbbdr': 3608, 'carlosdelrio': 618, 'breakthrough': 507, 'amit': 145, 'veterinari': 4682, 'speaker': 4115, 'impeach': 2083, 'drjohnwhyt': 1235, 'coronavirusincontext': 898, 'bier': 428, 'shud': 3997, 'bsybjp': 539, 'secretli': 3911, 'practition': 3380, 'fulfil': 1659, 'wish': 4839, 'fabric': 1486, 'bolivia': 470, 'xv': 4919, 'inch': 2101, 'istanbul': 2232, 'kitmalthous': 2385, 'freeview': 1641, 'mtaji': 2853, 'goc': 1741, 'broadli': 527, 'va': 4645, 'backtrack': 333, 'komal': 2397, 'mishra': 2770, 'cbzwboekeh': 641, 'sharep': 3969, 'belief': 401, 'assembl': 265, 'ukrain': 4562, 'award': 313, 'ecmo': 1287, 'durat': 1257, 'flaw': 1594, 'cardboard': 610, 'neighbour': 2928, 'shanghai': 3965, 'queue': 3548, 'micro': 2722, 'kyli': 2415, 'funni': 1670, 'ij': 2062, 'tynesid': 4543, 'commemor': 800, 'pilot': 3290, 'rollout': 3784, 'trupti': 4514, 'desai': 1104, 'latino': 2450, 'stagger': 4154, 'halfway': 1843, 'maria': 2628, 'butchthorn': 564, 'conservvoic': 850, 'pjpaton': 3296, 'smileygirl': 4058, 'vmaledew': 4727, 'normanbrennan': 2988, 'riccigeri': 3749, 'geraintmeysydd': 1708, 'ailment': 96, 'eckw': 1286, 'igot': 2057, 'dad': 1012, 'introvert': 2200, 'smell': 4056, 'ke': 2349, 'coronaviruscanada': 896, 'yell': 4937, 'oldpeopl': 3071, 'toolkit': 4450, 'xj': 4906, 'tf': 4382, 'environ': 1370, 'curbsid': 996, 'graph': 1776, 'khnew': 2367, 'databas': 1026, 'logist': 2535, 'worsen': 4866, 'remot': 3685, 'scarf': 3878, 'napkin': 2891, 'xem': 4902, 'lick': 2499, 'kemp': 2354, 'xm': 4909, 'cabin': 574, 'oppos': 3094, 'incomplet': 2108, 'hosp': 1976, 'bma': 465, 'immunis': 2078, 'childhood': 705, 'blatantli': 453, 'magnitud': 2588, 'minimis': 2757, 'bay': 374, 'iraq': 2220, 'wrf': 4877, 'bakeri': 343, 'breastfe': 508, 'varieti': 4664, 'kate': 2343, 'middleton': 2729, 'spark': 4113, 'queen': 3544, 'elizabeth': 1328, 'spreader': 4139, 'estat': 1395, 'upsurg': 4615, 'vati': 4667, 'willb': 4826, 'explos': 1469, 'classroom': 743, 'dmfpoapmjw': 1188, 'clqpffnyyi': 761, 'mutton': 2871, 'immunizationforal': 2079, 'vaccineswork': 4651, 'fullyimmunizeeverychild': 1662, 'croatian': 972, 'acog': 31, 'midnight': 2731, 'fee': 1548, 'offset': 3056, 'hqk': 1991, 'caller': 582, 'radio': 3569, 'legionnair': 2477, 'moistur': 2808, 'copi': 883, 'aw': 310, 'fraction': 1632, 'td': 4348, 'ssfz': 4147, 'cdl': 653, 'reiter': 3665, 'loot': 2541, 'udupi': 4552, 'sorma': 4096, 'joncraig': 2301, 'induc': 2130, 'batman': 371, 'uwi': 4639, 'moot': 2822, 'dyojlfjhyd': 1269, 'musculoskelet': 2864, 'pibhomeaffair': 3280, 'nica': 2957, 'janta': 2257, 'intraven': 2196, 'ptf': 3491, 'preview': 3417, 'mere': 2697, 'sum': 4257, 'jitendra': 2281, 'pipe': 3293, 'bulletin': 552, 'stomach': 4197, 'acid': 30, 'down': 1212, 'patron': 3207, 'indefinit': 2113, 'dubiou': 1250, 'jj': 2282, 'marco': 2625, 'afternoon': 77, 'mime': 2749, 'glass': 1729, 'bullfight': 553, 'bailout': 340, 'mvankerkhov': 2873, 'wind': 4830, 'justintrudeau': 2325, 'racist': 3566, 'clock': 755, 'sadiq': 3834, 'bidensoetoro': 427, 'se': 3897, 'rvg': 3821, 'dwbkt': 1265, 'imagin': 2072, 'rebuild': 3627, 'swear': 4298, 'virologist': 4708, 'ccpviru': 645, 'dhb': 1128, 'eg': 1303, 'bioengin': 439, 'ncdcgov': 2908, 'osmania': 3113, 'defend': 1070, 'star': 4163, 'laborday': 2423, 'puls': 3500, 'redeploy': 3643, 'wb': 4767, 'suspens': 4292, 'azz': 325, 'disciplin': 1159, 'epicentr': 1375, 'assault': 264, 'boon': 477, 'exfqzydf': 1447, 'sudan': 4246, 'emir': 1337, 'homeopathi': 1962, 'kadha': 2333, 'attract': 286, 'guard': 1809, 'sriniva': 4146, 'magazin': 2586, 'methodolog': 2706, 'trick': 4503, 'cream': 955, 'argu': 233, 'macedonian': 2575, 'cu': 986, 'ahi': 91, 'hill': 1930, 'dexamethsaon': 1123, 'stuff': 4227, 'vc': 4670, 'gpqyw': 1767, 'gnx': 1736, 'ball': 346, 'famin': 1512, 'cannon': 598, 'sudima': 4249, 'overcom': 3131, 'vqg': 4735, 'ryan': 3824, 'woy': 4873, 'seemingli': 3919, 'cup': 994, 'lancashir': 2435, 'gilead': 1717, 'prophet': 3471, 'plenti': 3317, 'cowork': 948, 'wifi': 4821, 'bicest': 424, 'joy': 2308, 'dot': 1207, 'kx': 2412, 'yeah': 4935, 'papaya': 3176, 'mosumbi': 2834, 'introduct': 2199, 'prospect': 3476, 'xsviva': 4916, 'ato': 280, 'newdelhi': 2941, 'peterwa': 3256, 'bruce': 536, 'lambert': 2433, 'nq': 3006, 'duiqxiwr': 1254, 'ys': 4961, 'plate': 3310, 'wj': 4844, 'resolut': 3714, 'fb': 1535, 'hotlin': 1982, 'zombi': 4989, 'visor': 4715, 'bull': 551, 'baro': 358, 'gavi': 1693, 'hairdryer': 1838, 'rachael': 3564, 'zack': 4971, 'shxj': 4000, 'ncdcrrt': 2911, 'empow': 1345, 'afro': 76, 'nahi': 2883, 'weather': 4774, 'inc': 2099, 'dtcxukin': 1246, 'lf': 2490, 'accordingli': 23, 'perfectli': 3241, 'aoc': 195, 'gh': 1712, 'irregular': 2224, 'korean': 2400, 'terriu': 4374, 'axio': 317, 'molecul': 2809, 'elder': 1318, 'reliev': 3676, 'exclam': 1440, 'wuhaninstituteofvirologylaboratori': 4889, 'moh': 2805, 'parasit': 3183, 'liber': 2496, 'manifest': 2613, 'caregiv': 615, 'kev': 2361, 'changer': 682, 'renew': 3687, 'hav': 1875, 'basketbal': 368, 'funnel': 1669, 'faucci': 1531, 'viralog': 4704, 'satyendar': 3867, 'jain': 2247, 'vietnam': 4694, 'jn': 2288, 'revenu': 3739, 'moayush': 2792, 'legitim': 2479, 'corner': 885, 'rec': 3628, 'paint': 3161, 'jonathan': 2300, 'ashworth': 255, 'cshsdhgi': 982, 'reinfect': 3662, 'envoy': 1371, 'portland': 3358, 'antifa': 182, 'havoc': 1877, 'lob': 2528, 'paz': 3217, 'vkgqwvof': 4723, 'inaccur': 2096, 'camera': 585, 'ujguetzyda': 4560, 'misus': 2781, 'inflat': 2141, 'mic': 2719, 'osha': 3112, 'evinindia': 1423, 'hai': 1835, 'pioneer': 3292, 'disastr': 1155, 'hairstylist': 1839, 'suck': 4245, 'bq': 495, 'deck': 1058, 'nfl': 2953, 'anubi': 187, 'dnc': 1190, 'sander': 3851, 'rashid': 3597, 'buttar': 565, 'currenc': 1000, 'petrol': 3257, 'pump': 3501, 'inhibitor': 2152, 'cardiovascular': 613, 'gn': 1735, 'antidot': 181, 'apocalyps': 198, 'dietari': 1138, 'haldi': 1841, 'probe': 3441, 'venezuelan': 4676, 'raw': 3604, 'realist': 3621, 'betadin': 415, 'intent': 2182, 'catastroph': 631, 'agent': 83, 'groupi': 1799, 'homeschool': 1964, 'construct': 858, 'bajao': 341, 'paramet': 3181, 'anybodi': 189, 'aroha': 240, 'ashishskynew': 253, 'purpl': 3509, 'doug': 1211, 'wlp': 4845, 'gx': 1825, 'mobilis': 2795, 'necess': 2920, 'icai': 2034, 'immin': 2076, 'occasion': 3036, 'officialdmrc': 3054, 'hn': 1949, 'perspect': 3253, 'nervou': 2932, 'icl': 2037, 'panama': 3166, 'avifavir': 305, 'expens': 1460, 'kp': 2402, 'nigella': 2962, 'prattl': 3385, 'upsid': 4614, 'juno': 2320, 'medicar': 2679, 'intak': 2177, 'hut': 2013, 'brick': 514, 'tray': 4493, 'anthem': 175, 'mbdavolt': 2657, 'rb': 3607, 'inaugur': 2097, 'secondari': 3908, 'hqdr': 1990, 'dirti': 1151, 'exp': 1455, 'havent': 1876, 'karimganj': 2341, 'yu': 4964, 'hockey': 1953, 'mortgag': 2830, 'aworldindisord': 315, 'rrt': 3802, 'overheard': 3133, 'disband': 1156, 'mascot': 2635, 'moca': 2796}\n"
          ]
        }
      ]
    },
    {
      "cell_type": "code",
      "source": [
        "#lemmatization\n",
        "import nltk\n",
        "nltk.download('wordnet')\n",
        "from nltk.stem import WordNetLemmatizer"
      ],
      "metadata": {
        "id": "MbSQveLwVjfR",
        "colab": {
          "base_uri": "https://localhost:8080/"
        },
        "outputId": "f2283dfd-3345-4513-e5c7-ed4c9451e417"
      },
      "execution_count": null,
      "outputs": [
        {
          "output_type": "stream",
          "name": "stdout",
          "text": [
            "[nltk_data] Downloading package wordnet to /root/nltk_data...\n",
            "[nltk_data]   Unzipping corpora/wordnet.zip.\n"
          ]
        }
      ]
    },
    {
      "cell_type": "code",
      "source": [
        "lemm=WordNetLemmatizer()\n"
      ],
      "metadata": {
        "id": "XhvmD_qWJK8v"
      },
      "execution_count": null,
      "outputs": []
    },
    {
      "cell_type": "code",
      "source": [
        "words=['rust', 'run',  'running', 'rusting','runner', 'rubbed', 'runfile', ]"
      ],
      "metadata": {
        "id": "yJuSYg_aJPfi"
      },
      "execution_count": null,
      "outputs": []
    },
    {
      "cell_type": "code",
      "source": [
        "for w in words:\n",
        "  print(w, \" : \", lemm.lemmatize(w))"
      ],
      "metadata": {
        "colab": {
          "base_uri": "https://localhost:8080/"
        },
        "id": "dS5LWTfrJicY",
        "outputId": "b63b4c74-7f0a-4b39-881b-959a4b2616fd"
      },
      "execution_count": null,
      "outputs": [
        {
          "output_type": "stream",
          "name": "stdout",
          "text": [
            "rust  :  rust\n",
            "run  :  run\n",
            "running  :  running\n",
            "rusting  :  rusting\n",
            "runner  :  runner\n",
            "rubbed  :  rubbed\n",
            "runfile  :  runfile\n"
          ]
        }
      ]
    },
    {
      "cell_type": "code",
      "source": [
        "#stemming\n",
        "from nltk.stem import PorterStemmer\n",
        "stem=PorterStemmer()\n",
        "for w in words:\n",
        "  print(w, \" : \", stem.stem(w))"
      ],
      "metadata": {
        "colab": {
          "base_uri": "https://localhost:8080/"
        },
        "id": "Wco6tLLwJpPj",
        "outputId": "8a38651c-d83a-4a51-97a0-8cb80da7b8a4"
      },
      "execution_count": null,
      "outputs": [
        {
          "output_type": "stream",
          "name": "stdout",
          "text": [
            "rust  :  rust\n",
            "run  :  run\n",
            "running  :  run\n",
            "rusting  :  rust\n",
            "runner  :  runner\n",
            "rubbed  :  rub\n",
            "runfile  :  runfil\n"
          ]
        }
      ]
    },
    {
      "cell_type": "code",
      "source": [
        "print(lemm.lemmatize('better'))\n",
        "print(lemm.lemmatize('better','a'))"
      ],
      "metadata": {
        "colab": {
          "base_uri": "https://localhost:8080/"
        },
        "id": "wC0jH76EKC_b",
        "outputId": "a1b626c0-5c62-477d-fd37-7f2e996e4eef"
      },
      "execution_count": null,
      "outputs": [
        {
          "output_type": "stream",
          "name": "stdout",
          "text": [
            "better\n",
            "good\n"
          ]
        }
      ]
    },
    {
      "cell_type": "code",
      "source": [
        "print(lemm.lemmatize('running'))\n",
        "print(lemm.lemmatize('running', 'v'))"
      ],
      "metadata": {
        "colab": {
          "base_uri": "https://localhost:8080/"
        },
        "id": "uNCgwczdKbov",
        "outputId": "59468abc-c943-4f70-a04d-704806c72043"
      },
      "execution_count": null,
      "outputs": [
        {
          "output_type": "stream",
          "name": "stdout",
          "text": [
            "running\n",
            "run\n"
          ]
        }
      ]
    },
    {
      "cell_type": "code",
      "source": [
        "print(lemm.lemmatize('pretty', 'a'))\n",
        "print(lemm.lemmatize('beautiful', 'a'))"
      ],
      "metadata": {
        "colab": {
          "base_uri": "https://localhost:8080/"
        },
        "id": "x76CMWU3Kqy6",
        "outputId": "cea8e148-04cc-4657-eb3a-06a46f73283a"
      },
      "execution_count": null,
      "outputs": [
        {
          "output_type": "stream",
          "name": "stdout",
          "text": [
            "pretty\n",
            "beautiful\n"
          ]
        }
      ]
    },
    {
      "cell_type": "code",
      "source": [
        ""
      ],
      "metadata": {
        "id": "18mLbB4PQr6k"
      },
      "execution_count": null,
      "outputs": []
    }
  ]
}